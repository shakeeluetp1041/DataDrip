{
 "cells": [
  {
   "cell_type": "markdown",
   "id": "c7ddad3c-6539-499b-a986-2e68b836b935",
   "metadata": {},
   "source": [
    "This should be the final pipeline for the cleaning and preparing the dataset. End result is a data frame, ready to be tossed into a ML model."
   ]
  },
  {
   "cell_type": "code",
   "execution_count": 1,
   "id": "7cbe85b4-2efa-4669-a8e5-9e06a3f16108",
   "metadata": {},
   "outputs": [],
   "source": [
    "import pandas as pd\n",
    "import numpy as np\n",
    "import matplotlib as plt\n",
    "from xgboost import XGBClassifier\n",
    "from sklearn.tree import DecisionTreeClassifier\n",
    "from sklearn.linear_model import LogisticRegression\n",
    "from sklearn.svm import SVC\n",
    "from xgboost import XGBClassifier\n",
    "from lightgbm import LGBMClassifier\n",
    "from sklearn.ensemble import ExtraTreesClassifier\n"
   ]
  },
  {
   "cell_type": "markdown",
   "id": "b553d731-5df2-4d74-8a66-96b6b4a4456c",
   "metadata": {},
   "source": [
    "Loading the data, and convert all the strings to lower case for uniformity."
   ]
  },
  {
   "cell_type": "code",
   "execution_count": 2,
   "id": "2586bc1f-d182-417a-b63c-c5cd74091fea",
   "metadata": {},
   "outputs": [],
   "source": [
    "df=pd.read_csv(\"../data/Training_Set_Values.csv\")       # Read the Training data CSV file\n",
    "name_featrures=df.columns                       # Get the features name\n",
    "len_features=len(name_featrures)                # Get the length of features\n",
    "labels=pd.read_csv(\"../data/Training_Set_labels.csv\")   # Read the labels (target) CSV file\n",
    "labels.head()\n",
    "df['target'] = labels['status_group']   "
   ]
  },
  {
   "cell_type": "code",
   "execution_count": 3,
   "id": "39cdfd97-37d0-4436-9e88-02f4b2c5521b",
   "metadata": {},
   "outputs": [],
   "source": [
    "# Columns to be dropped for the baseline models\n",
    "columns_to_drop=['id','amount_tsh','num_private','recorded_by','scheme_name',\n",
    "              'extraction_type_group','extraction_type',\n",
    "              'management','payment_type','quality_group','quantity_group','source','waterpoint_type_group',\n",
    "              'funder','installer','wpt_name','scheme_management']\n",
    "\n",
    "df = df.drop(columns=columns_to_drop)\n",
    "\n",
    "#X_test = X_test.drop(columns=columns_to_drop)\n",
    "#X_train = X_train.drop(columns=columns_to_drop)"
   ]
  },
  {
   "cell_type": "code",
   "execution_count": 4,
   "id": "490d6266-9b81-40c5-83c7-4388feb46556",
   "metadata": {},
   "outputs": [],
   "source": [
    "# Convert the target column to labels \n",
    "#print(df['target'].unique())\n",
    "target_map_dict={'functional': 2, 'functional needs repair': 1, 'non functional': 0} # Defined the mapping of labels to numbers (integers)\n",
    "#print(df['target'].head())\n",
    "df['target'] =df['target'].map(target_map_dict) # transform the target column (labels) to  numbers (integers)\n",
    "#df['target'].head()"
   ]
  },
  {
   "cell_type": "code",
   "execution_count": 5,
   "id": "8e446c0c-20c6-48ee-bb10-aa147c5c2de4",
   "metadata": {},
   "outputs": [],
   "source": [
    "X = df.drop(columns=['target'])  # Features only\n",
    "y = df['target']                 # Target column"
   ]
  },
  {
   "cell_type": "code",
   "execution_count": 6,
   "id": "6c89f0fd-2e3c-46f9-9c95-c8a7c6f70faf",
   "metadata": {},
   "outputs": [],
   "source": [
    "from sklearn.model_selection import train_test_split\n",
    "\n",
    "# Replace with your actual target column name\n",
    "#target_col = 'status_group'  # Example: use your actual label column\n",
    "#\n",
    "#X = df.drop(columns=[target_col])  # Drop target and ID from features\n",
    "#y = df[target_col]\n",
    "\n",
    "# Stratified train-test split\n",
    "X_train, X_test, y_train, y_test = train_test_split(\n",
    "    X, y, test_size=0.2, stratify=y\n",
    ")\n"
   ]
  },
  {
   "cell_type": "code",
   "execution_count": 7,
   "id": "fb614a98-030e-4b82-96da-79a70d51f3e8",
   "metadata": {},
   "outputs": [],
   "source": [
    "# Re-imports after code execution environment reset\n",
    "from sklearn.base import BaseEstimator, TransformerMixin\n",
    "from sklearn.pipeline import Pipeline\n",
    "from sklearn.compose import ColumnTransformer\n",
    "from sklearn.preprocessing import OneHotEncoder, MinMaxScaler\n",
    "from sklearn.impute import SimpleImputer\n",
    "from scipy.sparse import issparse\n",
    "import pandas as pd\n",
    "import numpy as np\n",
    "\n",
    "# Re-defining all custom transformers\n",
    "class StringConverter(BaseEstimator, TransformerMixin):\n",
    "    def fit(self, X, y=None):\n",
    "        self.feature_names = X.columns\n",
    "        return self\n",
    "    def transform(self, X):\n",
    "        return X.apply(lambda col: col.astype(str))\n",
    "    def get_feature_names_out(self, input_features=None):\n",
    "        return self.feature_names\n",
    "\n",
    "class YearExtractor(BaseEstimator, TransformerMixin):\n",
    "    def fit(self, X, y=None):\n",
    "        self.feature_name = X.columns[0]\n",
    "        return self\n",
    "    def transform(self, X):\n",
    "        years = pd.to_datetime(X.iloc[:, 0]).dt.year\n",
    "        years = years.where(years.isin([2011, 2012, 2013]), 2011)\n",
    "        return pd.DataFrame(years, columns=[self.feature_name])\n",
    "    def get_feature_names_out(self, input_features=None):\n",
    "        return [self.feature_name]\n",
    "\n",
    "class IQRCapper(BaseEstimator, TransformerMixin):\n",
    "    def __init__(self, strategy='clip', multiplier=1.5):\n",
    "        self.strategy = strategy\n",
    "        self.multiplier = multiplier\n",
    "    def fit(self, X, y=None):\n",
    "        self.feature_name = X.columns[0]\n",
    "        X_series = X.iloc[:, 0]\n",
    "        self.q1 = X_series.quantile(0.25)\n",
    "        self.q3 = X_series.quantile(0.75)\n",
    "        self.iqr = self.q3 - self.q1\n",
    "        self.lower_bound = self.q1 - self.multiplier * self.iqr\n",
    "        self.upper_bound = self.q3 + self.multiplier * self.iqr\n",
    "        self.mean = X_series.mean()\n",
    "        self.median = X_series.median()\n",
    "        return self\n",
    "    def transform(self, X):\n",
    "        X_series = X.iloc[:, 0].copy()\n",
    "        if self.strategy == 'clip':\n",
    "            X_out = X_series.clip(self.lower_bound, self.upper_bound)\n",
    "        elif self.strategy == 'mean':\n",
    "            mask = (X_series < self.lower_bound) | (X_series > self.upper_bound)\n",
    "            X_out = X_series.mask(mask, self.mean)\n",
    "        elif self.strategy == 'median':\n",
    "            mask = (X_series < self.lower_bound) | (X_series > self.upper_bound)\n",
    "            X_out = X_series.mask(mask, self.median)\n",
    "        else:\n",
    "            raise ValueError(f\"Unknown strategy: {self.strategy}\")\n",
    "        return pd.DataFrame(X_out, columns=[self.feature_name])\n",
    "    def get_feature_names_out(self, input_features=None):\n",
    "        return [self.feature_name]\n",
    "\n",
    "class ConstructionYearTransformer(BaseEstimator, TransformerMixin):\n",
    "    def fit(self, X, y=None):\n",
    "        self.feature_name = X.columns[0]\n",
    "        self.median_non_zero = X[X[self.feature_name] != 0][self.feature_name].median()\n",
    "        return self\n",
    "    def transform(self, X):\n",
    "        X_copy = X.copy()\n",
    "        X_copy[self.feature_name] = X_copy[self.feature_name].replace(0, self.median_non_zero)\n",
    "        return X_copy\n",
    "    def get_feature_names_out(self, input_features=None):\n",
    "        return [self.feature_name]\n",
    "\n",
    "class ObjectToNumericConverter(BaseEstimator, TransformerMixin):\n",
    "    def fit(self, X, y=None):\n",
    "        # Support both dense and sparse input\n",
    "        if hasattr(X, 'columns'):\n",
    "            self.feature_names = X.columns\n",
    "        else:\n",
    "            self.feature_names = [f'feat_{i}' for i in range(X.shape[1])]\n",
    "        return self\n",
    "\n",
    "    def transform(self, X):\n",
    "        if issparse(X):\n",
    "            return X  # Sparse matrix — already numeric\n",
    "        else:\n",
    "            X_copy = X.copy()\n",
    "            for col in X_copy.columns:\n",
    "                if X_copy[col].dtype == 'object':\n",
    "                    try:\n",
    "                        X_copy[col] = pd.to_numeric(X_copy[col])\n",
    "                    except ValueError:\n",
    "                        pass\n",
    "            return X_copy\n",
    "\n",
    "    def get_feature_names_out(self, input_features=None):\n",
    "        return self.feature_names\n",
    "\n",
    "\n",
    "class ColumnDropper(BaseEstimator, TransformerMixin):\n",
    "    def __init__(self, columns_to_drop=None):\n",
    "        self.columns_to_drop = columns_to_drop\n",
    "    def fit(self, X, y=None):\n",
    "        return self\n",
    "    def transform(self, X):\n",
    "        if self.columns_to_drop:\n",
    "            return X.drop(columns=[col for col in self.columns_to_drop if col in X.columns])\n",
    "        return X\n",
    "\n",
    "class GeoContextImputer(BaseEstimator, TransformerMixin):\n",
    "    def __init__(self):\n",
    "        self.geo_group_cols = ['subvillage', 'ward', 'lga', 'district_code', 'region_code']\n",
    "        self.pop_group_cols = ['subvillage', 'ward', 'lga', 'district_code', 'region_code']\n",
    "    def fit(self, X, y=None):\n",
    "        return self\n",
    "    def transform(self, X):\n",
    "        X = X.copy()\n",
    "        if 'subvillage' in X.columns:\n",
    "            X['subvillage'] = X['subvillage'].replace('', pd.NA)\n",
    "            X['subvillage'] = X.apply(lambda row: self.fill_subvillage(row, X), axis=1)\n",
    "        for col in ['latitude', 'longitude']:\n",
    "            if col in X.columns:\n",
    "                X[col] = X[col].apply(lambda x: pd.NA if abs(x) < 1e-6 else x)\n",
    "        if 'latitude' in X.columns and 'longitude' in X.columns:\n",
    "            X = self.fill_missing_geo(X, self.geo_group_cols)\n",
    "        if 'population' in X.columns:\n",
    "            X['population'] = X['population'].apply(lambda x: pd.NA if x in [0, 1] else x)\n",
    "            X = self.fill_missing_population(X, self.pop_group_cols)\n",
    "        if 'gps_height' in X.columns:\n",
    "            X['gps_height'] = X['gps_height'].apply(lambda x: pd.NA if x == 0 else x)\n",
    "            X = self.geo_groupwise_fill(X, 'gps_height', self.geo_group_cols)\n",
    "        if 'construction_year' in X.columns:\n",
    "            X['construction_year'] = X['construction_year'].apply(lambda x: pd.NA if x == 0 else x)\n",
    "            X = self.geo_groupwise_fill_mode(X, 'construction_year', self.geo_group_cols)\n",
    "        if 'wpt_name' in X.columns:\n",
    "            X['wpt_name'] = X['wpt_name'].fillna('none')\n",
    "        if 'scheme_management' in X.columns:\n",
    "            X['scheme_management'] = X['scheme_management'].fillna('other')\n",
    "        for col in ['funder', 'installer', 'scheme_name']:\n",
    "            if col in X.columns:\n",
    "                X = self.relabel_by_coverage(X, col, threshold=0.5)\n",
    "        return X.replace({pd.NA: np.nan})\n",
    "\n",
    "    def fill_subvillage(self, row, df):\n",
    "        if pd.isna(row['subvillage']):\n",
    "            for level in ['ward', 'lga', 'district_code']:\n",
    "                mode = df[df[level] == row[level]]['subvillage'].mode()\n",
    "                if not mode.empty:\n",
    "                    return mode[0]\n",
    "            return 'unknown'\n",
    "        return row['subvillage']\n",
    "\n",
    "    def fill_missing_geo(self, df, group_cols):\n",
    "        for col in group_cols:\n",
    "            group_means = df.dropna(subset=['latitude', 'longitude']).groupby(col)[['latitude', 'longitude']].mean()\n",
    "            def fill(row):\n",
    "                if pd.isna(row['latitude']) or pd.isna(row['longitude']):\n",
    "                    key = row[col]\n",
    "                    if key in group_means.index:\n",
    "                        if pd.isna(row['latitude']):\n",
    "                            row['latitude'] = group_means.loc[key, 'latitude']\n",
    "                        if pd.isna(row['longitude']):\n",
    "                            row['longitude'] = group_means.loc[key, 'longitude']\n",
    "                return row\n",
    "            df = df.apply(fill, axis=1)\n",
    "            if df['latitude'].isna().sum() == 0 and df['longitude'].isna().sum() == 0:\n",
    "                break\n",
    "        return df\n",
    "\n",
    "    def fill_missing_population(self, df, levels):\n",
    "        for level in levels:\n",
    "            group_medians = df.dropna(subset=['population']).groupby(level)['population'].median()\n",
    "            def fill(row):\n",
    "                if pd.isna(row['population']):\n",
    "                    key = row[level]\n",
    "                    if key in group_medians:\n",
    "                        row['population'] = group_medians.loc[key]\n",
    "                return row\n",
    "            df = df.apply(fill, axis=1)\n",
    "            if df['population'].isna().sum() == 0:\n",
    "                break\n",
    "        return df\n",
    "\n",
    "    def geo_groupwise_fill(self, df, target_col, group_cols):\n",
    "        for col in group_cols:\n",
    "            group_medians = df.dropna(subset=[target_col]).groupby(col)[target_col].median()\n",
    "            def fill(row):\n",
    "                if pd.isna(row[target_col]):\n",
    "                    key = row[col]\n",
    "                    if key in group_medians.index:\n",
    "                        row[target_col] = group_medians.loc[key]\n",
    "                return row\n",
    "            df = df.apply(fill, axis=1)\n",
    "            if df[target_col].isna().sum() == 0:\n",
    "                break\n",
    "        return df\n",
    "\n",
    "    def geo_groupwise_fill_mode(self, df, target_col, group_cols):\n",
    "        for col in group_cols:\n",
    "            group_modes = df.dropna(subset=[target_col]).groupby(col)[target_col].agg(lambda x: x.mode().iloc[0])\n",
    "            def fill(row):\n",
    "                if pd.isna(row[target_col]):\n",
    "                    key = row[col]\n",
    "                    if key in group_modes.index:\n",
    "                        row[target_col] = group_modes.loc[key]\n",
    "                return row\n",
    "            df = df.apply(fill, axis=1)\n",
    "            if df[target_col].isna().sum() == 0:\n",
    "                break\n",
    "        return df\n",
    "\n",
    "    def relabel_by_coverage(self, df, column, threshold=0.5, new_label='other'):\n",
    "        value_counts = df[column].value_counts(normalize=True)\n",
    "        cumulative = value_counts.cumsum()\n",
    "        keep_labels = cumulative[cumulative <= threshold].index.tolist()\n",
    "        df[column] = df[column].apply(lambda x: x if x in keep_labels else new_label)\n",
    "        return df\n"
   ]
  },
  {
   "cell_type": "code",
   "execution_count": 8,
   "id": "c7cee93f-958e-4650-a9fc-980c6a2f2750",
   "metadata": {},
   "outputs": [],
   "source": [
    "# Run the imputer manually to determine available columns\n",
    "#imputer = GeoContextImputer()\n",
    "#X_train_imputed = imputer.fit_transform(X_train.copy())\n",
    "\n",
    "dropped=['funder', 'gps_height' 'subvillage', 'latitude', 'longitude', 'management',\n",
    "         'lga', 'ward', 'permit', 'source_class', 'management_group', 'public_meeting', 'region']\n",
    "# Recompute valid column types after imputation\n",
    "#numeric_features = X_train_imputed.select_dtypes(include='number').columns.tolist()\n",
    "#categorical_features = X_train_imputed.select_dtypes(include='object').columns.tolist()\n",
    "\n",
    "# Recalculate features after dropper + imputer\n",
    "intermediate = GeoContextImputer().fit_transform(X_train)\n",
    "intermediate = ColumnDropper(columns_to_drop=dropped).transform(intermediate)\n",
    "\n",
    "numeric_features = intermediate.select_dtypes(include='number').columns.tolist()\n",
    "categorical_features = intermediate.select_dtypes(include='object').columns.tolist()\n",
    "\n",
    "\n",
    "# Now define the transformers as usual\n",
    "#from sklearn.pipeline import Pipeline\n",
    "from imblearn.pipeline import Pipeline\n",
    "from sklearn.impute import SimpleImputer\n",
    "from sklearn.preprocessing import StandardScaler, OneHotEncoder\n",
    "from sklearn.compose import ColumnTransformer\n",
    "\n",
    "numeric_transformer = Pipeline([\n",
    "    ('imputer', SimpleImputer(strategy='mean')),\n",
    "    ('scaler', StandardScaler())\n",
    "])\n",
    "categorical_transformer = Pipeline([\n",
    "    ('imputer', SimpleImputer(strategy='most_frequent')),\n",
    "    ('encoder', OneHotEncoder(handle_unknown='ignore'))\n",
    "])\n",
    "preprocessor = ColumnTransformer([\n",
    "    ('num', numeric_transformer, numeric_features),\n",
    "    ('cat', categorical_transformer, categorical_features)\n",
    "])\n"
   ]
  },
  {
   "cell_type": "code",
   "execution_count": 9,
   "id": "bbee5767-bd56-4e92-a51a-829e2dd152d6",
   "metadata": {},
   "outputs": [],
   "source": [
    "from sklearn.ensemble import RandomForestClassifier\n",
    "from imblearn.pipeline import Pipeline  # replaces sklearn.pipeline.Pipeline\n",
    "from imblearn.over_sampling import SMOTE\n",
    "\n",
    "\n",
    "full_pipeline = Pipeline([\n",
    "    ('geo_imputer', GeoContextImputer()),\n",
    "    ('dropper', ColumnDropper(columns_to_drop=dropped)),\n",
    "    ('preprocessing', preprocessor),\n",
    "    \n",
    "('object_to_numeric', ObjectToNumericConverter()),  # <— this includes all the lower steps\n",
    "    ('smote', SMOTE()),\n",
    "    ('classifier', RandomForestClassifier(n_estimators=300, class_weight='balanced'))\n",
    "])\n",
    "\n"
   ]
  },
  {
   "cell_type": "code",
   "execution_count": 10,
   "id": "584d274f-d0d5-4ebc-8647-af3336e968f4",
   "metadata": {},
   "outputs": [],
   "source": [
    "full_pipeline.fit(X_train, y_train)\n",
    "y_pred = full_pipeline.predict(X_test)\n"
   ]
  },
  {
   "cell_type": "code",
   "execution_count": 11,
   "id": "673d3b64-7dd5-47c2-98ad-b13543b8dd56",
   "metadata": {},
   "outputs": [
    {
     "name": "stdout",
     "output_type": "stream",
     "text": [
      "0.7912457912457912\n"
     ]
    }
   ],
   "source": [
    "from sklearn.metrics import accuracy_score\n",
    "\n",
    "print(accuracy_score(y_test, y_pred))"
   ]
  },
  {
   "cell_type": "code",
   "execution_count": 40,
   "id": "5b3147a0-3236-4041-b039-ff587f80ae7a",
   "metadata": {},
   "outputs": [
    {
     "name": "stdout",
     "output_type": "stream",
     "text": [
      "Average CV accuracy: 0.6737064899821227\n"
     ]
    }
   ],
   "source": [
    "from sklearn.model_selection import cross_val_score\n",
    "\n",
    "scores = cross_val_score(full_pipeline, X_train, y_train_encoded, cv=5, scoring='balanced_accuracy')\n",
    "print(\"Average CV accuracy:\", scores.mean())\n"
   ]
  },
  {
   "cell_type": "code",
   "execution_count": 89,
   "id": "fe7eadb1-1498-4173-bb0f-71b127658cb3",
   "metadata": {},
   "outputs": [
    {
     "name": "stdout",
     "output_type": "stream",
     "text": [
      "{'geo_imputer': GeoContextImputer(), 'dropper': ColumnDropper(columns_to_drop=['id', 'amount_tsh', 'num_private', 'recorded_by',\n",
      "                               'scheme_name', 'extraction_type_group',\n",
      "                               'extraction_type_class', 'management',\n",
      "                               'payment_type', 'quality_group',\n",
      "                               'quantity_group', 'source',\n",
      "                               'waterpoint_type_group', 'funder', 'installer',\n",
      "                               'wpt_name', 'scheme_management']), 'preprocessing': ColumnTransformer(transformers=[('num',\n",
      "                                 Pipeline(steps=[('imputer', SimpleImputer()),\n",
      "                                                 ('scaler', StandardScaler())]),\n",
      "                                 ['gps_height', 'longitude', 'latitude',\n",
      "                                  'region_code', 'district_code', 'population',\n",
      "                                  'construction_year']),\n",
      "                                ('cat',\n",
      "                                 Pipeline(steps=[('imputer',\n",
      "                                                  SimpleImputer(strategy='most_frequent')),\n",
      "                                                 ('encoder',\n",
      "                                                  OneHotEncoder(handle_unknown='ignore'))]),\n",
      "                                 ['date_recorded', 'basin', 'subvillage',\n",
      "                                  'region', 'lga', 'ward', 'public_meeting',\n",
      "                                  'permit', 'extraction_type',\n",
      "                                  'management_group', 'payment',\n",
      "                                  'water_quality', 'quantity', 'source_type',\n",
      "                                  'source_class', 'waterpoint_type'])]), 'object_to_numeric': ObjectToNumericConverter(), 'smote': SMOTE(), 'classifier': RandomForestClassifier(class_weight='balanced', n_estimators=300)}\n"
     ]
    }
   ],
   "source": [
    "print(full_pipeline.named_steps)\n"
   ]
  },
  {
   "cell_type": "code",
   "execution_count": 12,
   "id": "7257a5c6-3bff-4ff7-a75f-347805b49813",
   "metadata": {},
   "outputs": [
    {
     "name": "stdout",
     "output_type": "stream",
     "text": [
      "🔝 Top 30 Feature Importances:\n",
      "gps_height: 0.0625\n",
      "population: 0.0443\n",
      "construction_year: 0.0438\n",
      "quantity_dry: 0.0385\n",
      "district_code: 0.0301\n",
      "region_code: 0.0282\n",
      "quantity_enough: 0.0226\n",
      "waterpoint_type_other: 0.0153\n",
      "quantity_insufficient: 0.0140\n",
      "extraction_type_class_other: 0.0140\n",
      "payment_never pay: 0.0138\n",
      "extraction_type_class_gravity: 0.0114\n",
      "waterpoint_type_communal standpipe: 0.0112\n",
      "payment_pay monthly: 0.0090\n",
      "payment_pay per bucket: 0.0089\n",
      "waterpoint_type_communal standpipe multiple: 0.0081\n",
      "source_type_spring: 0.0081\n",
      "extraction_type_class_handpump: 0.0079\n",
      "source_type_river/lake: 0.0077\n",
      "water_quality_soft: 0.0074\n",
      "source_type_borehole: 0.0072\n",
      "waterpoint_type_hand pump: 0.0071\n",
      "source_type_shallow well: 0.0069\n",
      "payment_unknown: 0.0068\n",
      "basin_Lake Victoria: 0.0064\n",
      "basin_Lake Tanganyika: 0.0063\n",
      "basin_Internal: 0.0060\n",
      "quantity_seasonal: 0.0056\n",
      "basin_Rufiji: 0.0052\n",
      "extraction_type_class_submersible: 0.0050\n"
     ]
    }
   ],
   "source": [
    "# 1. Get the trained RandomForestClassifier\n",
    "rf_model = full_pipeline.named_steps['classifier']\n",
    "\n",
    "# 2. Get the ColumnTransformer directly\n",
    "column_transformer = full_pipeline.named_steps['preprocessing']\n",
    "\n",
    "# 3. Initialize feature name list\n",
    "feature_names = []\n",
    "\n",
    "# 4. Loop through transformers\n",
    "for name, transformer, cols in column_transformer.transformers_:\n",
    "    if name == 'cat':  # Categorical pipeline with OneHotEncoder\n",
    "        ohe = transformer.named_steps['encoder']\n",
    "        ohe_feature_names = ohe.get_feature_names_out(cols)\n",
    "        feature_names.extend(ohe_feature_names)\n",
    "    elif name == 'num':  # Numerical pipeline\n",
    "        feature_names.extend(cols)\n",
    "    elif name == 'remainder' and transformer == 'passthrough':\n",
    "        feature_names.extend(cols)\n",
    "\n",
    "# 5. Combine with feature importances\n",
    "importances = rf_model.feature_importances_\n",
    "feature_importances = sorted(zip(feature_names, importances), key=lambda x: x[1], reverse=True)\n",
    "\n",
    "# 6. Display top features\n",
    "print(\"🔝 Top 30 Feature Importances:\")\n",
    "for name, score in feature_importances[:30]:\n",
    "    print(f\"{name}: {score:.4f}\")\n"
   ]
  },
  {
   "cell_type": "code",
   "execution_count": 13,
   "id": "1d20447a-65c6-4e09-a249-79e153a3ffab",
   "metadata": {},
   "outputs": [
    {
     "data": {
      "image/png": "[encoded data removed]",
      "text/plain": [
       "<Figure size 1000x600 with 1 Axes>"
      ]
     },
     "metadata": {},
     "output_type": "display_data"
    }
   ],
   "source": [
    "import matplotlib.pyplot as plt\n",
    "\n",
    "top_n = 30\n",
    "names, scores = zip(*feature_importances[:top_n])\n",
    "\n",
    "plt.figure(figsize=(10, 6))\n",
    "plt.barh(names[::-1], scores[::-1])\n",
    "plt.title(\"Top Feature Importances (Random Forest)\")\n",
    "plt.xlabel(\"Importance\")\n",
    "plt.tight_layout()\n",
    "plt.show()\n"
   ]
  },
  {
   "cell_type": "markdown",
   "id": "d05708de-811d-44dc-988c-91a500bbf3ce",
   "metadata": {},
   "source": [
    "Time to bring in the actual test set for making the submission to the competiton"
   ]
  },
  {
   "cell_type": "code",
   "execution_count": 20,
   "id": "3897759e-3bde-4b2a-857f-9a256ee7b0d9",
   "metadata": {},
   "outputs": [],
   "source": [
    "df_3 = pd.read_csv(\"../data/Test_Set_Values.csv\")"
   ]
  },
  {
   "cell_type": "code",
   "execution_count": 21,
   "id": "acf242ae-a4c5-410b-8bc3-87c83c709cb5",
   "metadata": {},
   "outputs": [],
   "source": [
    "X_test_ids = df_3['id'].copy()  # Store before dropping"
   ]
  },
  {
   "cell_type": "code",
   "execution_count": 22,
   "id": "65d6611c-e7fa-486c-88c4-9e84b9e143ae",
   "metadata": {},
   "outputs": [],
   "source": [
    "df_3 = df_3.drop(columns=columns_to_drop)"
   ]
  },
  {
   "cell_type": "code",
   "execution_count": 23,
   "id": "6c4b3687-4e75-4c74-a03f-c0aa4f54bb27",
   "metadata": {},
   "outputs": [
    {
     "ename": "AttributeError",
     "evalue": "'csr_matrix' object has no attribute 'drop'",
     "output_type": "error",
     "traceback": [
      "\u001b[0;31m---------------------------------------------------------------------------\u001b[0m",
      "\u001b[0;31mAttributeError\u001b[0m                            Traceback (most recent call last)",
      "Cell \u001b[0;32mIn[23], line 1\u001b[0m\n\u001b[0;32m----> 1\u001b[0m preds_test \u001b[38;5;241m=\u001b[39m \u001b[43mfull_pipeline\u001b[49m\u001b[38;5;241;43m.\u001b[39;49m\u001b[43mpredict\u001b[49m\u001b[43m(\u001b[49m\u001b[43mdf_3\u001b[49m\u001b[43m)\u001b[49m\n",
      "File \u001b[0;32m~/.local/lib/python3.10/site-packages/imblearn/pipeline.py:658\u001b[0m, in \u001b[0;36mPipeline.predict\u001b[0;34m(self, X, **params)\u001b[0m\n\u001b[1;32m    656\u001b[0m \u001b[38;5;28;01mif\u001b[39;00m \u001b[38;5;129;01mnot\u001b[39;00m _routing_enabled():\n\u001b[1;32m    657\u001b[0m     \u001b[38;5;28;01mfor\u001b[39;00m _, name, transform \u001b[38;5;129;01min\u001b[39;00m \u001b[38;5;28mself\u001b[39m\u001b[38;5;241m.\u001b[39m_iter(with_final\u001b[38;5;241m=\u001b[39m\u001b[38;5;28;01mFalse\u001b[39;00m):\n\u001b[0;32m--> 658\u001b[0m         Xt \u001b[38;5;241m=\u001b[39m \u001b[43mtransform\u001b[49m\u001b[38;5;241;43m.\u001b[39;49m\u001b[43mtransform\u001b[49m\u001b[43m(\u001b[49m\u001b[43mXt\u001b[49m\u001b[43m)\u001b[49m\n\u001b[1;32m    659\u001b[0m     \u001b[38;5;28;01mreturn\u001b[39;00m \u001b[38;5;28mself\u001b[39m\u001b[38;5;241m.\u001b[39msteps[\u001b[38;5;241m-\u001b[39m\u001b[38;5;241m1\u001b[39m][\u001b[38;5;241m1\u001b[39m]\u001b[38;5;241m.\u001b[39mpredict(Xt, \u001b[38;5;241m*\u001b[39m\u001b[38;5;241m*\u001b[39mparams)\n\u001b[1;32m    661\u001b[0m \u001b[38;5;66;03m# metadata routing enabled\u001b[39;00m\n",
      "File \u001b[0;32m~/.local/lib/python3.10/site-packages/sklearn/utils/_set_output.py:319\u001b[0m, in \u001b[0;36m_wrap_method_output.<locals>.wrapped\u001b[0;34m(self, X, *args, **kwargs)\u001b[0m\n\u001b[1;32m    317\u001b[0m \u001b[38;5;129m@wraps\u001b[39m(f)\n\u001b[1;32m    318\u001b[0m \u001b[38;5;28;01mdef\u001b[39;00m \u001b[38;5;21mwrapped\u001b[39m(\u001b[38;5;28mself\u001b[39m, X, \u001b[38;5;241m*\u001b[39margs, \u001b[38;5;241m*\u001b[39m\u001b[38;5;241m*\u001b[39mkwargs):\n\u001b[0;32m--> 319\u001b[0m     data_to_wrap \u001b[38;5;241m=\u001b[39m \u001b[43mf\u001b[49m\u001b[43m(\u001b[49m\u001b[38;5;28;43mself\u001b[39;49m\u001b[43m,\u001b[49m\u001b[43m \u001b[49m\u001b[43mX\u001b[49m\u001b[43m,\u001b[49m\u001b[43m \u001b[49m\u001b[38;5;241;43m*\u001b[39;49m\u001b[43margs\u001b[49m\u001b[43m,\u001b[49m\u001b[43m \u001b[49m\u001b[38;5;241;43m*\u001b[39;49m\u001b[38;5;241;43m*\u001b[39;49m\u001b[43mkwargs\u001b[49m\u001b[43m)\u001b[49m\n\u001b[1;32m    320\u001b[0m     \u001b[38;5;28;01mif\u001b[39;00m \u001b[38;5;28misinstance\u001b[39m(data_to_wrap, \u001b[38;5;28mtuple\u001b[39m):\n\u001b[1;32m    321\u001b[0m         \u001b[38;5;66;03m# only wrap the first output for cross decomposition\u001b[39;00m\n\u001b[1;32m    322\u001b[0m         return_tuple \u001b[38;5;241m=\u001b[39m (\n\u001b[1;32m    323\u001b[0m             _wrap_data_with_container(method, data_to_wrap[\u001b[38;5;241m0\u001b[39m], X, \u001b[38;5;28mself\u001b[39m),\n\u001b[1;32m    324\u001b[0m             \u001b[38;5;241m*\u001b[39mdata_to_wrap[\u001b[38;5;241m1\u001b[39m:],\n\u001b[1;32m    325\u001b[0m         )\n",
      "Cell \u001b[0;32mIn[8], line 108\u001b[0m, in \u001b[0;36mColumnDropper.transform\u001b[0;34m(self, X)\u001b[0m\n\u001b[1;32m    106\u001b[0m \u001b[38;5;28;01mdef\u001b[39;00m \u001b[38;5;21mtransform\u001b[39m(\u001b[38;5;28mself\u001b[39m, X):\n\u001b[1;32m    107\u001b[0m     \u001b[38;5;28;01mif\u001b[39;00m \u001b[38;5;28mself\u001b[39m\u001b[38;5;241m.\u001b[39mcolumns_to_drop:\n\u001b[0;32m--> 108\u001b[0m         \u001b[38;5;28;01mreturn\u001b[39;00m \u001b[43mX\u001b[49m\u001b[38;5;241;43m.\u001b[39;49m\u001b[43mdrop\u001b[49m(columns\u001b[38;5;241m=\u001b[39m[col \u001b[38;5;28;01mfor\u001b[39;00m col \u001b[38;5;129;01min\u001b[39;00m \u001b[38;5;28mself\u001b[39m\u001b[38;5;241m.\u001b[39mcolumns_to_drop \u001b[38;5;28;01mif\u001b[39;00m col \u001b[38;5;129;01min\u001b[39;00m X\u001b[38;5;241m.\u001b[39mcolumns])\n\u001b[1;32m    109\u001b[0m     \u001b[38;5;28;01mreturn\u001b[39;00m X\n",
      "\u001b[0;31mAttributeError\u001b[0m: 'csr_matrix' object has no attribute 'drop'"
     ]
    }
   ],
   "source": [
    "preds_test = full_pipeline.predict(df_3)"
   ]
  },
  {
   "cell_type": "code",
   "execution_count": null,
   "id": "ecf33772-7ce5-4d9a-b845-850b5d40d0cb",
   "metadata": {},
   "outputs": [],
   "source": [
    "# Convert back to original string labels\n",
    "y_pred_labels = le.inverse_transform(preds_test)\n",
    "\n",
    "# Then build submission\n",
    "submission = pd.DataFrame({\n",
    "    \"id\": X_test_ids.values,\n",
    "    \"status_group\": y_pred_labels\n",
    "})\n",
    "submission.to_csv(\"submission.csv\", index=False)\n"
   ]
  },
  {
   "cell_type": "markdown",
   "id": "dad17760-8261-418b-82f1-3d12624dcf94",
   "metadata": {},
   "source": [
    "Submitting resut on drivendata with testset, public score = 0.76"
   ]
  },
  {
   "cell_type": "code",
   "execution_count": 24,
   "id": "96db8d3f-5695-468f-8637-09c7d85694d5",
   "metadata": {},
   "outputs": [],
   "source": [
    "from sklearn.model_selection import RandomizedSearchCV\n",
    "from scipy.stats import randint\n",
    "\n",
    "param_dist = {\n",
    "    'classifier__n_estimators': randint(100, 1000)\n",
    "}\n",
    "\n",
    "random_search = RandomizedSearchCV(\n",
    "    estimator=full_pipeline,\n",
    "    param_distributions=param_dist,\n",
    "    n_iter=50,             # Try 50 combinations\n",
    "    cv=5,\n",
    "    scoring='balanced_accuracy',    # or 'f1_macro', etc.\n",
    "    random_state=42,\n",
    "    n_jobs=-1,\n",
    "    verbose=2\n",
    ")\n"
   ]
  },
  {
   "cell_type": "code",
   "execution_count": 16,
   "id": "48f43bf6-c1a4-4150-a3b9-e7baeaefb1ff",
   "metadata": {},
   "outputs": [],
   "source": [
    "from sklearn.model_selection import GridSearchCV\n",
    "\n",
    "param_grid = {\n",
    "    'classifier__n_estimators': [100, 200, 300, 400, 500, 600, 700, 800, 900, 1000]\n",
    "}\n",
    "\n",
    "grid = GridSearchCV(\n",
    "    estimator=full_pipeline,\n",
    "    param_grid=param_grid,\n",
    "    cv=5,  # 5-fold cross-validation\n",
    "    scoring='accuracy',  # or 'f1_macro', etc.\n",
    "    n_jobs=-1,  # parallel processing\n",
    "    verbose=2\n",
    ")"
   ]
  },
  {
   "cell_type": "markdown",
   "id": "7b3778c7-7d39-4035-a8b4-9750af4ae58d",
   "metadata": {},
   "source": [
    "Optimization using gridsearch"
   ]
  },
  {
   "cell_type": "code",
   "execution_count": 17,
   "id": "f0da8507-8837-48d3-9bb5-fe180a7758de",
   "metadata": {},
   "outputs": [
    {
     "name": "stdout",
     "output_type": "stream",
     "text": [
      "Fitting 5 folds for each of 10 candidates, totalling 50 fits\n",
      "[CV] END .......................classifier__n_estimators=100; total time= 3.1min\n",
      "[CV] END .......................classifier__n_estimators=300; total time= 5.1min\n",
      "[CV] END .......................classifier__n_estimators=600; total time= 8.0min\n"
     ]
    },
    {
     "name": "stderr",
     "output_type": "stream",
     "text": [
      "/home/amey/.local/lib/python3.10/site-packages/joblib/externals/loky/process_executor.py:752: UserWarning: A worker stopped while some jobs were given to the executor. This can be caused by a too short worker timeout or by a memory leak.\n",
      "  warnings.warn(\n"
     ]
    },
    {
     "name": "stdout",
     "output_type": "stream",
     "text": [
      "[CV] END .......................classifier__n_estimators=100; total time= 3.1min\n",
      "[CV] END .......................classifier__n_estimators=300; total time= 5.2min\n",
      "[CV] END .......................classifier__n_estimators=600; total time= 8.0min\n",
      "[CV] END .......................classifier__n_estimators=100; total time= 3.2min\n",
      "[CV] END .......................classifier__n_estimators=400; total time= 6.1min\n",
      "[CV] END .......................classifier__n_estimators=600; total time= 8.1min\n",
      "[CV] END .......................classifier__n_estimators=100; total time= 3.1min\n",
      "[CV] END .......................classifier__n_estimators=400; total time= 6.2min\n",
      "[CV] END .......................classifier__n_estimators=600; total time= 8.2min\n",
      "[CV] END .......................classifier__n_estimators=200; total time= 4.1min\n",
      "[CV] END .......................classifier__n_estimators=400; total time= 6.2min\n",
      "[CV] END .......................classifier__n_estimators=600; total time= 8.1min\n",
      "[CV] END .......................classifier__n_estimators=200; total time= 4.2min\n",
      "[CV] END .......................classifier__n_estimators=400; total time= 6.2min\n",
      "[CV] END .......................classifier__n_estimators=700; total time= 9.2min\n",
      "[CV] END .......................classifier__n_estimators=200; total time= 4.2min\n",
      "[CV] END .......................classifier__n_estimators=400; total time= 6.3min\n",
      "[CV] END .......................classifier__n_estimators=700; total time= 9.4min\n",
      "[CV] END .......................classifier__n_estimators=200; total time= 4.4min\n",
      "[CV] END .......................classifier__n_estimators=500; total time= 7.1min\n",
      "[CV] END .......................classifier__n_estimators=700; total time= 9.2min\n",
      "[CV] END .......................classifier__n_estimators=200; total time= 4.2min\n",
      "[CV] END .......................classifier__n_estimators=500; total time= 7.3min\n",
      "[CV] END .......................classifier__n_estimators=700; total time= 9.3min\n",
      "[CV] END .......................classifier__n_estimators=300; total time= 5.2min\n",
      "[CV] END .......................classifier__n_estimators=500; total time= 7.0min\n",
      "[CV] END .......................classifier__n_estimators=700; total time= 9.4min\n",
      "[CV] END .......................classifier__n_estimators=300; total time= 5.4min\n",
      "[CV] END .......................classifier__n_estimators=500; total time= 6.9min\n",
      "[CV] END .......................classifier__n_estimators=800; total time=10.1min\n",
      "[CV] END .......................classifier__n_estimators=100; total time= 3.1min\n",
      "[CV] END .......................classifier__n_estimators=300; total time= 4.9min\n",
      "[CV] END .......................classifier__n_estimators=500; total time= 6.9min\n",
      "[CV] END .......................classifier__n_estimators=800; total time=10.1min\n",
      "[CV] END .......................classifier__n_estimators=800; total time=10.7min\n",
      "[CV] END .......................classifier__n_estimators=800; total time=10.7min\n",
      "[CV] END .......................classifier__n_estimators=900; total time=11.5min\n",
      "[CV] END .......................classifier__n_estimators=900; total time=11.1min\n",
      "[CV] END .......................classifier__n_estimators=900; total time=10.5min\n",
      "[CV] END .......................classifier__n_estimators=900; total time=10.8min\n",
      "[CV] END .......................classifier__n_estimators=900; total time=10.7min\n",
      "[CV] END ......................classifier__n_estimators=1000; total time=10.9min\n",
      "[CV] END ......................classifier__n_estimators=1000; total time=10.6min\n",
      "[CV] END ......................classifier__n_estimators=1000; total time= 9.9min\n",
      "[CV] END ......................classifier__n_estimators=1000; total time= 8.7min\n",
      "[CV] END .......................classifier__n_estimators=800; total time=10.8min\n",
      "[CV] END ......................classifier__n_estimators=1000; total time= 7.2min\n",
      "Best parameters: {'classifier__n_estimators': 1000}\n",
      "Best cross-validation score: 0.770314253647587\n"
     ]
    }
   ],
   "source": [
    "grid.fit(X_train, y_train_encoded)\n",
    "\n",
    "print(\"Best parameters:\", grid.best_params_)\n",
    "print(\"Best cross-validation score:\", grid.best_score_)\n",
    "\n",
    "# Predict using the best model\n",
    "best_model = grid.best_estimator_\n",
    "y_pred = best_model.predict(X_test)\n"
   ]
  },
  {
   "cell_type": "code",
   "execution_count": 26,
   "id": "beae9fb4-02e6-4fde-8825-52b38ffc5c27",
   "metadata": {},
   "outputs": [
    {
     "name": "stdout",
     "output_type": "stream",
     "text": [
      "Best parameters: {'classifier__bootstrap': True, 'classifier__max_depth': 40, 'classifier__max_features': 'sqrt', 'classifier__min_samples_leaf': 1, 'classifier__min_samples_split': 10, 'classifier__n_estimators': 620}\n",
      "Best cross-validation score: 0.7018965084294856\n"
     ]
    }
   ],
   "source": [
    "print(\"Best parameters:\", random_search.best_params_)\n",
    "print(\"Best cross-validation score:\", random_search.best_score_)"
   ]
  },
  {
   "cell_type": "markdown",
   "id": "53b560b4-c925-4ac1-98bf-56e2a0259994",
   "metadata": {},
   "source": []
  },
  {
   "cell_type": "markdown",
   "id": "246ea3f9-ea17-4eb6-8d6c-61b757bc40b4",
   "metadata": {},
   "source": [
    "Evaluation metrics"
   ]
  },
  {
   "cell_type": "code",
   "execution_count": 92,
   "id": "83221c6f-34a4-495b-95d2-643903cefb75",
   "metadata": {},
   "outputs": [
    {
     "name": "stdout",
     "output_type": "stream",
     "text": [
      "Without LatLong\n",
      "📊 Accuracy: 0.7961279461279461\n",
      "🎯 Precision (macro): 0.7025560130913036\n",
      "🎯 Recall (macro): 0.6854193813643144\n",
      "🎯 F1 Score (macro): 0.6930843258957657\n",
      "🎯 F1 Score (weighted): 0.7942983508520916\n",
      "🧠 Cohen’s Kappa: 0.6258776999842203\n",
      "📉 Log Loss: 0.559964963179862\n",
      "📈 ROC AUC Score (OvR): 0.8932568872494575\n",
      "\n",
      "🧾 Classification Report:\n",
      "                         precision    recall  f1-score   support\n",
      "\n",
      "             functional       0.81      0.86      0.84      3226\n",
      "functional needs repair       0.47      0.42      0.44       432\n",
      "         non functional       0.83      0.78      0.80      2282\n",
      "\n",
      "               accuracy                           0.80      5940\n",
      "              macro avg       0.70      0.69      0.69      5940\n",
      "           weighted avg       0.79      0.80      0.79      5940\n",
      "\n"
     ]
    },
    {
     "data": {
      "image/png": "[encoded data removed]",
      "text/plain": [
       "<Figure size 600x500 with 2 Axes>"
      ]
     },
     "metadata": {},
     "output_type": "display_data"
    },
    {
     "name": "stdout",
     "output_type": "stream",
     "text": [
      "\n",
      "🔍 Class distribution comparison:\n",
      "Predicted: 0    0.574411\n",
      "1    0.065488\n",
      "2    0.360101\n",
      "Name: proportion, dtype: float64\n",
      "True:      0    0.543098\n",
      "1    0.072727\n",
      "2    0.384175\n",
      "Name: proportion, dtype: float64\n"
     ]
    }
   ],
   "source": [
    "from sklearn.metrics import (\n",
    "    accuracy_score, precision_score, recall_score, f1_score,\n",
    "    classification_report, confusion_matrix, log_loss,\n",
    "    roc_auc_score, cohen_kappa_score\n",
    ")\n",
    "import seaborn as sns\n",
    "import matplotlib.pyplot as plt\n",
    "import pandas as pd\n",
    "\n",
    "# Label decoding if needed\n",
    "print(\"Without LatLong\")\n",
    "y_true = y_test_encoded\n",
    "y_pred_labels = y_pred  # use inverse_transform(y_pred) if label encoded\n",
    "y_proba = full_pipeline.predict_proba(X_test)  # must be available for log_loss/roc_auc\n",
    "\n",
    "# Basic Scores\n",
    "print(\"📊 Accuracy:\", accuracy_score(y_true, y_pred_labels))\n",
    "print(\"🎯 Precision (macro):\", precision_score(y_true, y_pred_labels, average='macro'))\n",
    "print(\"🎯 Recall (macro):\", recall_score(y_true, y_pred_labels, average='macro'))\n",
    "print(\"🎯 F1 Score (macro):\", f1_score(y_true, y_pred_labels, average='macro'))\n",
    "print(\"🎯 F1 Score (weighted):\", f1_score(y_true, y_pred_labels, average='weighted'))\n",
    "\n",
    "# Cohen's Kappa\n",
    "print(\"🧠 Cohen’s Kappa:\", cohen_kappa_score(y_true, y_pred_labels))\n",
    "\n",
    "# Log Loss (requires probabilities)\n",
    "try:\n",
    "    print(\"📉 Log Loss:\", log_loss(y_true, y_proba))\n",
    "except:\n",
    "    print(\"⚠️ Log loss not available (no predict_proba)\")\n",
    "\n",
    "# ROC AUC (multiclass)\n",
    "try:\n",
    "    print(\"📈 ROC AUC Score (OvR):\", roc_auc_score(y_true, y_proba, multi_class='ovr'))\n",
    "except:\n",
    "    print(\"⚠️ ROC AUC not available (no predict_proba)\")\n",
    "\n",
    "# Classification Report\n",
    "print(\"\\n🧾 Classification Report:\")\n",
    "print(classification_report(y_true, y_pred_labels, target_names=le.classes_))\n",
    "\n",
    "# Confusion Matrix Plot\n",
    "cm = confusion_matrix(y_true, y_pred_labels)\n",
    "plt.figure(figsize=(6, 5))\n",
    "sns.heatmap(cm, annot=True, fmt='d', cmap='Blues', xticklabels=le.classes_, yticklabels=le.classes_)\n",
    "plt.xlabel(\"Predicted\")\n",
    "plt.ylabel(\"Actual\")\n",
    "plt.title(\"Confusion Matrix\")\n",
    "plt.show()\n",
    "\n",
    "# Prediction Distribution vs True Distribution\n",
    "print(\"\\n🔍 Class distribution comparison:\")\n",
    "print(\"Predicted:\", pd.Series(y_pred_labels).value_counts(normalize=True).sort_index())\n",
    "print(\"True:     \", pd.Series(y_true).value_counts(normalize=True).sort_index())\n"
   ]
  },
  {
   "cell_type": "code",
   "execution_count": 9,
   "id": "60201028-ca72-4f54-b334-8d0fecc812ff",
   "metadata": {},
   "outputs": [],
   "source": [
    "from sklearn.compose import ColumnTransformer\n",
    "from sklearn.pipeline import Pipeline\n",
    "from sklearn.impute import SimpleImputer\n",
    "from sklearn.preprocessing import OneHotEncoder, StandardScaler\n",
    "from sklearn.pipeline import Pipeline\n",
    "from sklearn.compose import ColumnTransformer\n",
    "from sklearn.impute import SimpleImputer\n",
    "from sklearn.preprocessing import StandardScaler, OneHotEncoder\n",
    "from sklearn.model_selection import train_test_split\n",
    "from sklearn.metrics import classification_report\n",
    "\n",
    "from sklearn.tree import DecisionTreeClassifier\n",
    "from sklearn.ensemble import RandomForestClassifier, ExtraTreesClassifier, GradientBoostingClassifier\n",
    "from sklearn.svm import SVC\n",
    "\n",
    "import xgboost as xgb\n",
    "import lightgbm as lgb\n",
    "\n",
    "import pandas as pd\n",
    "\n",
    "# Automatically select column types\n",
    "numeric_features = X.select_dtypes(include='number').columns.tolist()\n",
    "categorical_features = X.select_dtypes(include='object').columns.tolist()\n",
    "\n",
    "# Preprocessing for numeric columns\n",
    "numeric_transformer = Pipeline(steps=[\n",
    "    ('imputer', SimpleImputer(strategy='mean')),\n",
    "    ('scaler', StandardScaler())\n",
    "])\n",
    "\n",
    "# Preprocessing for categorical columns\n",
    "categorical_transformer = Pipeline(steps=[\n",
    "    ('imputer', SimpleImputer(strategy='most_frequent')),\n",
    "    ('onehot', OneHotEncoder(handle_unknown='ignore'))\n",
    "])\n",
    "\n",
    "# Full column transformer\n",
    "preprocessor = ColumnTransformer(\n",
    "    transformers=[\n",
    "        ('num', numeric_transformer, numeric_features),\n",
    "        ('cat', categorical_transformer, categorical_features)\n",
    "    ]\n",
    ")\n"
   ]
  },
  {
   "cell_type": "code",
   "execution_count": 10,
   "id": "3a9d67a1-fefb-4d13-ad4c-34790c260e5f",
   "metadata": {},
   "outputs": [],
   "source": [
    "from sklearn.tree import DecisionTreeClassifier\n",
    "from sklearn.ensemble import RandomForestClassifier, ExtraTreesClassifier, GradientBoostingClassifier\n",
    "from sklearn.svm import SVC\n",
    "import xgboost as xgb\n",
    "import lightgbm as lgb\n",
    "\n",
    "# Define classifiers\n",
    "models = {\n",
    "    \"Decision Tree\": DecisionTreeClassifier(random_state=42),\n",
    "    \"Random Forest\": RandomForestClassifier(random_state=42),\n",
    "    \"Extra Trees\": ExtraTreesClassifier(random_state=42),\n",
    "    \"Gradient Boosting\": GradientBoostingClassifier(random_state=42),\n",
    "    \"SVC\": SVC(probability=True, random_state=42),\n",
    "    \"XGBoost\": xgb.XGBClassifier(use_label_encoder=False, eval_metric='mlogloss', random_state=42),\n",
    "    \"LightGBM\": lgb.LGBMClassifier(random_state=42)\n",
    "}\n"
   ]
  },
  {
   "cell_type": "code",
   "execution_count": 11,
   "id": "d1bbd11e-996f-4000-943f-722667640020",
   "metadata": {},
   "outputs": [],
   "source": [
    "from sklearn.pipeline import Pipeline\n",
    "\n",
    "# Build pipelines\n",
    "pipelines = {\n",
    "    name: Pipeline([\n",
    "        ('preprocessor', preprocessor),\n",
    "        ('classifier', model)\n",
    "    ]) for name, model in models.items()\n",
    "}\n"
   ]
  },
  {
   "cell_type": "code",
   "execution_count": 12,
   "id": "af5bbf47-6f9c-4e03-8120-65a5f4478994",
   "metadata": {},
   "outputs": [
    {
     "name": "stdout",
     "output_type": "stream",
     "text": [
      "Training Decision Tree...\n"
     ]
    },
    {
     "ename": "KeyboardInterrupt",
     "evalue": "",
     "output_type": "error",
     "traceback": [
      "\u001b[0;31m---------------------------------------------------------------------------\u001b[0m",
      "\u001b[0;31mKeyboardInterrupt\u001b[0m                         Traceback (most recent call last)",
      "Cell \u001b[0;32mIn[12], line 8\u001b[0m\n\u001b[1;32m      6\u001b[0m \u001b[38;5;28;01mfor\u001b[39;00m name, pipeline \u001b[38;5;129;01min\u001b[39;00m pipelines\u001b[38;5;241m.\u001b[39mitems():\n\u001b[1;32m      7\u001b[0m     \u001b[38;5;28mprint\u001b[39m(\u001b[38;5;124mf\u001b[39m\u001b[38;5;124m\"\u001b[39m\u001b[38;5;124mTraining \u001b[39m\u001b[38;5;132;01m{\u001b[39;00mname\u001b[38;5;132;01m}\u001b[39;00m\u001b[38;5;124m...\u001b[39m\u001b[38;5;124m\"\u001b[39m)\n\u001b[0;32m----> 8\u001b[0m     \u001b[43mpipeline\u001b[49m\u001b[38;5;241;43m.\u001b[39;49m\u001b[43mfit\u001b[49m\u001b[43m(\u001b[49m\u001b[43mX_train\u001b[49m\u001b[43m,\u001b[49m\u001b[43m \u001b[49m\u001b[43my_train\u001b[49m\u001b[43m)\u001b[49m\n\u001b[1;32m      9\u001b[0m     y_pred \u001b[38;5;241m=\u001b[39m pipeline\u001b[38;5;241m.\u001b[39mpredict(X_test)\n\u001b[1;32m     10\u001b[0m     report \u001b[38;5;241m=\u001b[39m classification_report(y_test, y_pred, output_dict\u001b[38;5;241m=\u001b[39m\u001b[38;5;28;01mTrue\u001b[39;00m)\n",
      "File \u001b[0;32m~/.local/lib/python3.10/site-packages/sklearn/base.py:1389\u001b[0m, in \u001b[0;36m_fit_context.<locals>.decorator.<locals>.wrapper\u001b[0;34m(estimator, *args, **kwargs)\u001b[0m\n\u001b[1;32m   1382\u001b[0m     estimator\u001b[38;5;241m.\u001b[39m_validate_params()\n\u001b[1;32m   1384\u001b[0m \u001b[38;5;28;01mwith\u001b[39;00m config_context(\n\u001b[1;32m   1385\u001b[0m     skip_parameter_validation\u001b[38;5;241m=\u001b[39m(\n\u001b[1;32m   1386\u001b[0m         prefer_skip_nested_validation \u001b[38;5;129;01mor\u001b[39;00m global_skip_validation\n\u001b[1;32m   1387\u001b[0m     )\n\u001b[1;32m   1388\u001b[0m ):\n\u001b[0;32m-> 1389\u001b[0m     \u001b[38;5;28;01mreturn\u001b[39;00m \u001b[43mfit_method\u001b[49m\u001b[43m(\u001b[49m\u001b[43mestimator\u001b[49m\u001b[43m,\u001b[49m\u001b[43m \u001b[49m\u001b[38;5;241;43m*\u001b[39;49m\u001b[43margs\u001b[49m\u001b[43m,\u001b[49m\u001b[43m \u001b[49m\u001b[38;5;241;43m*\u001b[39;49m\u001b[38;5;241;43m*\u001b[39;49m\u001b[43mkwargs\u001b[49m\u001b[43m)\u001b[49m\n",
      "File \u001b[0;32m~/.local/lib/python3.10/site-packages/sklearn/pipeline.py:662\u001b[0m, in \u001b[0;36mPipeline.fit\u001b[0;34m(self, X, y, **params)\u001b[0m\n\u001b[1;32m    656\u001b[0m     \u001b[38;5;28;01mif\u001b[39;00m \u001b[38;5;28mself\u001b[39m\u001b[38;5;241m.\u001b[39m_final_estimator \u001b[38;5;241m!=\u001b[39m \u001b[38;5;124m\"\u001b[39m\u001b[38;5;124mpassthrough\u001b[39m\u001b[38;5;124m\"\u001b[39m:\n\u001b[1;32m    657\u001b[0m         last_step_params \u001b[38;5;241m=\u001b[39m \u001b[38;5;28mself\u001b[39m\u001b[38;5;241m.\u001b[39m_get_metadata_for_step(\n\u001b[1;32m    658\u001b[0m             step_idx\u001b[38;5;241m=\u001b[39m\u001b[38;5;28mlen\u001b[39m(\u001b[38;5;28mself\u001b[39m) \u001b[38;5;241m-\u001b[39m \u001b[38;5;241m1\u001b[39m,\n\u001b[1;32m    659\u001b[0m             step_params\u001b[38;5;241m=\u001b[39mrouted_params[\u001b[38;5;28mself\u001b[39m\u001b[38;5;241m.\u001b[39msteps[\u001b[38;5;241m-\u001b[39m\u001b[38;5;241m1\u001b[39m][\u001b[38;5;241m0\u001b[39m]],\n\u001b[1;32m    660\u001b[0m             all_params\u001b[38;5;241m=\u001b[39mparams,\n\u001b[1;32m    661\u001b[0m         )\n\u001b[0;32m--> 662\u001b[0m         \u001b[38;5;28;43mself\u001b[39;49m\u001b[38;5;241;43m.\u001b[39;49m\u001b[43m_final_estimator\u001b[49m\u001b[38;5;241;43m.\u001b[39;49m\u001b[43mfit\u001b[49m\u001b[43m(\u001b[49m\u001b[43mXt\u001b[49m\u001b[43m,\u001b[49m\u001b[43m \u001b[49m\u001b[43my\u001b[49m\u001b[43m,\u001b[49m\u001b[43m \u001b[49m\u001b[38;5;241;43m*\u001b[39;49m\u001b[38;5;241;43m*\u001b[39;49m\u001b[43mlast_step_params\u001b[49m\u001b[43m[\u001b[49m\u001b[38;5;124;43m\"\u001b[39;49m\u001b[38;5;124;43mfit\u001b[39;49m\u001b[38;5;124;43m\"\u001b[39;49m\u001b[43m]\u001b[49m\u001b[43m)\u001b[49m\n\u001b[1;32m    664\u001b[0m \u001b[38;5;28;01mreturn\u001b[39;00m \u001b[38;5;28mself\u001b[39m\n",
      "File \u001b[0;32m~/.local/lib/python3.10/site-packages/sklearn/base.py:1389\u001b[0m, in \u001b[0;36m_fit_context.<locals>.decorator.<locals>.wrapper\u001b[0;34m(estimator, *args, **kwargs)\u001b[0m\n\u001b[1;32m   1382\u001b[0m     estimator\u001b[38;5;241m.\u001b[39m_validate_params()\n\u001b[1;32m   1384\u001b[0m \u001b[38;5;28;01mwith\u001b[39;00m config_context(\n\u001b[1;32m   1385\u001b[0m     skip_parameter_validation\u001b[38;5;241m=\u001b[39m(\n\u001b[1;32m   1386\u001b[0m         prefer_skip_nested_validation \u001b[38;5;129;01mor\u001b[39;00m global_skip_validation\n\u001b[1;32m   1387\u001b[0m     )\n\u001b[1;32m   1388\u001b[0m ):\n\u001b[0;32m-> 1389\u001b[0m     \u001b[38;5;28;01mreturn\u001b[39;00m \u001b[43mfit_method\u001b[49m\u001b[43m(\u001b[49m\u001b[43mestimator\u001b[49m\u001b[43m,\u001b[49m\u001b[43m \u001b[49m\u001b[38;5;241;43m*\u001b[39;49m\u001b[43margs\u001b[49m\u001b[43m,\u001b[49m\u001b[43m \u001b[49m\u001b[38;5;241;43m*\u001b[39;49m\u001b[38;5;241;43m*\u001b[39;49m\u001b[43mkwargs\u001b[49m\u001b[43m)\u001b[49m\n",
      "File \u001b[0;32m~/.local/lib/python3.10/site-packages/sklearn/tree/_classes.py:1024\u001b[0m, in \u001b[0;36mDecisionTreeClassifier.fit\u001b[0;34m(self, X, y, sample_weight, check_input)\u001b[0m\n\u001b[1;32m    993\u001b[0m \u001b[38;5;129m@_fit_context\u001b[39m(prefer_skip_nested_validation\u001b[38;5;241m=\u001b[39m\u001b[38;5;28;01mTrue\u001b[39;00m)\n\u001b[1;32m    994\u001b[0m \u001b[38;5;28;01mdef\u001b[39;00m \u001b[38;5;21mfit\u001b[39m(\u001b[38;5;28mself\u001b[39m, X, y, sample_weight\u001b[38;5;241m=\u001b[39m\u001b[38;5;28;01mNone\u001b[39;00m, check_input\u001b[38;5;241m=\u001b[39m\u001b[38;5;28;01mTrue\u001b[39;00m):\n\u001b[1;32m    995\u001b[0m \u001b[38;5;250m    \u001b[39m\u001b[38;5;124;03m\"\"\"Build a decision tree classifier from the training set (X, y).\u001b[39;00m\n\u001b[1;32m    996\u001b[0m \n\u001b[1;32m    997\u001b[0m \u001b[38;5;124;03m    Parameters\u001b[39;00m\n\u001b[0;32m   (...)\u001b[0m\n\u001b[1;32m   1021\u001b[0m \u001b[38;5;124;03m        Fitted estimator.\u001b[39;00m\n\u001b[1;32m   1022\u001b[0m \u001b[38;5;124;03m    \"\"\"\u001b[39;00m\n\u001b[0;32m-> 1024\u001b[0m     \u001b[38;5;28;43msuper\u001b[39;49m\u001b[43m(\u001b[49m\u001b[43m)\u001b[49m\u001b[38;5;241;43m.\u001b[39;49m\u001b[43m_fit\u001b[49m\u001b[43m(\u001b[49m\n\u001b[1;32m   1025\u001b[0m \u001b[43m        \u001b[49m\u001b[43mX\u001b[49m\u001b[43m,\u001b[49m\n\u001b[1;32m   1026\u001b[0m \u001b[43m        \u001b[49m\u001b[43my\u001b[49m\u001b[43m,\u001b[49m\n\u001b[1;32m   1027\u001b[0m \u001b[43m        \u001b[49m\u001b[43msample_weight\u001b[49m\u001b[38;5;241;43m=\u001b[39;49m\u001b[43msample_weight\u001b[49m\u001b[43m,\u001b[49m\n\u001b[1;32m   1028\u001b[0m \u001b[43m        \u001b[49m\u001b[43mcheck_input\u001b[49m\u001b[38;5;241;43m=\u001b[39;49m\u001b[43mcheck_input\u001b[49m\u001b[43m,\u001b[49m\n\u001b[1;32m   1029\u001b[0m \u001b[43m    \u001b[49m\u001b[43m)\u001b[49m\n\u001b[1;32m   1030\u001b[0m     \u001b[38;5;28;01mreturn\u001b[39;00m \u001b[38;5;28mself\u001b[39m\n",
      "File \u001b[0;32m~/.local/lib/python3.10/site-packages/sklearn/tree/_classes.py:472\u001b[0m, in \u001b[0;36mBaseDecisionTree._fit\u001b[0;34m(self, X, y, sample_weight, check_input, missing_values_in_feature_mask)\u001b[0m\n\u001b[1;32m    461\u001b[0m \u001b[38;5;28;01melse\u001b[39;00m:\n\u001b[1;32m    462\u001b[0m     builder \u001b[38;5;241m=\u001b[39m BestFirstTreeBuilder(\n\u001b[1;32m    463\u001b[0m         splitter,\n\u001b[1;32m    464\u001b[0m         min_samples_split,\n\u001b[0;32m   (...)\u001b[0m\n\u001b[1;32m    469\u001b[0m         \u001b[38;5;28mself\u001b[39m\u001b[38;5;241m.\u001b[39mmin_impurity_decrease,\n\u001b[1;32m    470\u001b[0m     )\n\u001b[0;32m--> 472\u001b[0m \u001b[43mbuilder\u001b[49m\u001b[38;5;241;43m.\u001b[39;49m\u001b[43mbuild\u001b[49m\u001b[43m(\u001b[49m\u001b[38;5;28;43mself\u001b[39;49m\u001b[38;5;241;43m.\u001b[39;49m\u001b[43mtree_\u001b[49m\u001b[43m,\u001b[49m\u001b[43m \u001b[49m\u001b[43mX\u001b[49m\u001b[43m,\u001b[49m\u001b[43m \u001b[49m\u001b[43my\u001b[49m\u001b[43m,\u001b[49m\u001b[43m \u001b[49m\u001b[43msample_weight\u001b[49m\u001b[43m,\u001b[49m\u001b[43m \u001b[49m\u001b[43mmissing_values_in_feature_mask\u001b[49m\u001b[43m)\u001b[49m\n\u001b[1;32m    474\u001b[0m \u001b[38;5;28;01mif\u001b[39;00m \u001b[38;5;28mself\u001b[39m\u001b[38;5;241m.\u001b[39mn_outputs_ \u001b[38;5;241m==\u001b[39m \u001b[38;5;241m1\u001b[39m \u001b[38;5;129;01mand\u001b[39;00m is_classifier(\u001b[38;5;28mself\u001b[39m):\n\u001b[1;32m    475\u001b[0m     \u001b[38;5;28mself\u001b[39m\u001b[38;5;241m.\u001b[39mn_classes_ \u001b[38;5;241m=\u001b[39m \u001b[38;5;28mself\u001b[39m\u001b[38;5;241m.\u001b[39mn_classes_[\u001b[38;5;241m0\u001b[39m]\n",
      "\u001b[0;31mKeyboardInterrupt\u001b[0m: "
     ]
    }
   ],
   "source": [
    "from sklearn.metrics import classification_report\n",
    "import pandas as pd\n",
    "\n",
    "results = {}\n",
    "\n",
    "for name, pipeline in pipelines.items():\n",
    "    print(f\"Training {name}...\")\n",
    "    pipeline.fit(X_train, y_train)\n",
    "    y_pred = pipeline.predict(X_test)\n",
    "    report = classification_report(y_test, y_pred, output_dict=True)\n",
    "    results[name] = report[\"weighted avg\"]\n"
   ]
  },
  {
   "cell_type": "code",
   "execution_count": null,
   "id": "3cc7d7db-eac2-4d7c-8927-5027671d8754",
   "metadata": {},
   "outputs": [],
   "source": [
    "import pandas as pd\n",
    "results_df = pd.DataFrame(results).T\n",
    "import ace_tools as tools; tools.display_dataframe_to_user(name=\"Model Evaluation Results\", dataframe=results_df)\n"
   ]
  }
 ],
 "metadata": {
  "kernelspec": {
   "display_name": "Python 3 (ipykernel)",
   "language": "python",
   "name": "python3"
  },
  "language_info": {
   "codemirror_mode": {
    "name": "ipython",
    "version": 3
   },
   "file_extension": ".py",
   "mimetype": "text/x-python",
   "name": "python",
   "nbconvert_exporter": "python",
   "pygments_lexer": "ipython3",
   "version": "3.10.12"
  }
 },
 "nbformat": 4,
 "nbformat_minor": 5
}
