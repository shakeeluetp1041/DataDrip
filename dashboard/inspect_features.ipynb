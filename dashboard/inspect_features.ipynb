{
 "cells": [
  {
   "cell_type": "code",
   "execution_count": 2,
   "id": "04a003df-abb8-4f08-8d0f-8b87f8cfe57a",
   "metadata": {
    "scrolled": true
   },
   "outputs": [
    {
     "name": "stdout",
     "output_type": "stream",
     "text": [
      "\n",
      "🚨 Total features after preprocessing (before selection): 116\n",
      "   Example: ['age__age' 'num__amount_tsh' 'cat__source_class_surface'\n",
      " 'cat__source_class_unknown' 'cat__water_quality_fluoride'\n",
      " 'cat__water_quality_fluoride abandoned' 'cat__water_quality_milky'\n",
      " 'cat__water_quality_salty' 'cat__water_quality_salty abandoned'\n",
      " 'cat__water_quality_soft'] …\n",
      "\n",
      "🚨 Number of features kept by SelectFromModel: 88\n",
      "🚨 These are the features that the RandomForest sees:\n",
      "\n",
      "   • age__age\n",
      "   • num__amount_tsh\n",
      "   • cat__source_class_surface\n",
      "   • cat__water_quality_milky\n",
      "   • cat__water_quality_salty\n",
      "   • cat__water_quality_salty abandoned\n",
      "   • cat__water_quality_soft\n",
      "   • cat__water_quality_unknown\n",
      "   • cat__payment_type_monthly\n",
      "   • cat__payment_type_never pay\n",
      "   • cat__payment_type_on failure\n",
      "   • cat__payment_type_other\n",
      "   • cat__payment_type_per bucket\n",
      "   • cat__payment_type_unknown\n",
      "   • cat__extraction_type_class_handpump\n",
      "   • cat__extraction_type_class_motorpump\n",
      "   • cat__extraction_type_class_other\n",
      "   • cat__extraction_type_class_submersible\n",
      "   • cat__quantity_enough\n",
      "   • cat__quantity_insufficient\n",
      "   • cat__quantity_seasonal\n",
      "   • cat__quantity_unknown\n",
      "   • cat__management_group_other\n",
      "   • cat__management_group_parastatal\n",
      "   • cat__management_group_user-group\n",
      "   • cat__source_type_dam\n",
      "   • cat__source_type_rainwater harvesting\n",
      "   • cat__source_type_river/lake\n",
      "   • cat__source_type_shallow well\n",
      "   • cat__source_type_spring\n",
      "   • cat__district_code_1\n",
      "   • cat__district_code_2\n",
      "   • cat__district_code_3\n",
      "   • cat__district_code_30\n",
      "   • cat__district_code_33\n",
      "   • cat__district_code_4\n",
      "   • cat__district_code_5\n",
      "   • cat__district_code_53\n",
      "   • cat__district_code_6\n",
      "   • cat__district_code_7\n",
      "   • cat__district_code_8\n",
      "   • cat__waterpoint_type_communal standpipe\n",
      "   • cat__waterpoint_type_communal standpipe multiple\n",
      "   • cat__waterpoint_type_hand pump\n",
      "   • cat__waterpoint_type_improved spring\n",
      "   • cat__waterpoint_type_other\n",
      "   • cat__payment_pay annually\n",
      "   • cat__payment_pay monthly\n",
      "   • cat__payment_pay per bucket\n",
      "   • cat__payment_pay when scheme fails\n",
      "   • cat__payment_unknown\n",
      "   • cat__region_with_code_dodoma_1\n",
      "   • cat__region_with_code_iringa_11\n",
      "   • cat__region_with_code_kagera_18\n",
      "   • cat__region_with_code_kigoma_16\n",
      "   • cat__region_with_code_kilimanjaro_3\n",
      "   • cat__region_with_code_lindi_80\n",
      "   • cat__region_with_code_manyara_21\n",
      "   • cat__region_with_code_mara_20\n",
      "   • cat__region_with_code_mbeya_12\n",
      "   • cat__region_with_code_morogoro_5\n",
      "   • cat__region_with_code_mtwara_90\n",
      "   • cat__region_with_code_mwanza_19\n",
      "   • cat__region_with_code_pwani_6\n",
      "   • cat__region_with_code_pwani_60\n",
      "   • cat__region_with_code_rukwa_15\n",
      "   • cat__region_with_code_ruvuma_10\n",
      "   • cat__region_with_code_shinyanga_17\n",
      "   • cat__region_with_code_singida_13\n",
      "   • cat__region_with_code_tabora_14\n",
      "   • cat__region_with_code_tanga_4\n",
      "   • cat__basin_lake nyasa\n",
      "   • cat__basin_lake rukwa\n",
      "   • cat__basin_lake tanganyika\n",
      "   • cat__basin_lake victoria\n",
      "   • cat__basin_pangani\n",
      "   • cat__basin_rufiji\n",
      "   • cat__basin_ruvuma / southern coast\n",
      "   • cat__basin_wami / ruvu\n",
      "   • freq__funder\n",
      "   • freq__installer\n",
      "   • freq__wpt_name\n",
      "   • freq__ward\n",
      "   • freq__lga\n",
      "   • freq__scheme_management\n",
      "   • freq__scheme_name\n",
      "   • freq__subvillage\n",
      "   • freq__management\n"
     ]
    }
   ],
   "source": [
    "# inspect_pipeline.py\n",
    "from preprocessors import (\n",
    "    LowerCaseStrings,\n",
    "    StringConverter,\n",
    "    YearExtractor,\n",
    "    IQRCapper,\n",
    "    ConstructionYearTransformer,\n",
    "    ObjectToNumericConverter,\n",
    "    AgeCalculator,\n",
    "    FrequencyEncoder,\n",
    "    RegionCodeCombiner,\n",
    "    ColumnDropper,\n",
    "    AgePipeline,\n",
    "    GeoContextImputer\n",
    ")\n",
    "import joblib\n",
    "import numpy as np\n",
    "\n",
    "# 1) Load the full pipeline you saved.\n",
    "pipeline = joblib.load(\"full_pipeline.joblib\")\n",
    "\n",
    "# 2) Grab the ColumnTransformer (named \"preprocessor\") and the selector step (named \"feature_selection\").\n",
    "preprocessor = pipeline.named_steps[\"preprocessor\"]\n",
    "selector     = pipeline.named_steps[\"feature_selection\"]\n",
    "\n",
    "# 3) Ask the ColumnTransformer for its output feature names\n",
    "#    This returns a numpy array like [\"age\", \"num__gps_height\", \"cat__basin_lake victoria\", ...]\n",
    "all_proc_feature_names = preprocessor.get_feature_names_out()\n",
    "\n",
    "# 4) Ask the selector which of these it kept\n",
    "mask = selector.get_support()           # boolean mask, same length as all_proc_feature_names\n",
    "important_features = np.array(all_proc_feature_names)[mask]\n",
    "\n",
    "print(\"\\n🚨 Total features after preprocessing (before selection):\", len(all_proc_feature_names))\n",
    "print(\"   Example:\", all_proc_feature_names[:10], \"…\\n\")\n",
    "\n",
    "print(\"🚨 Number of features kept by SelectFromModel:\", important_features.shape[0])\n",
    "print(\"🚨 These are the features that the RandomForest sees:\\n\")\n",
    "for feat in important_features:\n",
    "    print(\"   •\", feat)\n"
   ]
  },
  {
   "cell_type": "code",
   "execution_count": 1,
   "id": "8f29bd09-1771-456e-a414-78095ddd478a",
   "metadata": {},
   "outputs": [],
   "source": [
    "import pandas as pd\n",
    "\n",
    "df=pd.read_csv(\"../data/Training_Set_Values.csv\")       # Read the Training data CSV file"
   ]
  },
  {
   "cell_type": "code",
   "execution_count": 7,
   "id": "76b2e301-7117-4857-96fc-47a9adef71fe",
   "metadata": {},
   "outputs": [],
   "source": [
    "# 1. Replace blank strings with NaN\n",
    "df['subvillage'] = df['subvillage'].replace('', pd.NA)\n",
    "\n",
    "# 2. Function to fill NaN with fallback hierarchy\n",
    "def fill_subvillage(row):\n",
    "    if pd.isna(row['subvillage']):\n",
    "        ward_mode = df[df['ward'] == row['ward']]['subvillage'].mode()\n",
    "        if not ward_mode.empty:\n",
    "            return ward_mode[0]\n",
    "\n",
    "        lga_mode = df[df['lga'] == row['lga']]['subvillage'].mode()\n",
    "        if not lga_mode.empty:\n",
    "            return lga_mode[0]\n",
    "\n",
    "        region_mode = df[df['district_code'] == row['district_code']]['subvillage'].mode()\n",
    "        if not region_mode.empty:\n",
    "            return region_mode[0]\n",
    "\n",
    "        return 'unknown'\n",
    "\n",
    "    return row['subvillage']\n",
    "\n",
    "# 3. Apply the function\n",
    "df['subvillage'] = df.apply(fill_subvillage, axis=1)"
   ]
  },
  {
   "cell_type": "code",
   "execution_count": 4,
   "id": "08e416e3-dfaf-4c98-919f-dc25f40439c5",
   "metadata": {
    "scrolled": true
   },
   "outputs": [
    {
     "name": "stdout",
     "output_type": "stream",
     "text": [
      "          id  amount_tsh date_recorded           funder  gps_height  \\\n",
      "0      69572      6000.0    2011-03-14            Roman        1390   \n",
      "1       8776         0.0    2013-03-06          Grumeti        1399   \n",
      "2      34310        25.0    2013-02-25     Lottery Club         686   \n",
      "3      67743         0.0    2013-01-28           Unicef         263   \n",
      "4      19728         0.0    2011-07-13      Action In A           0   \n",
      "...      ...         ...           ...              ...         ...   \n",
      "59395  60739        10.0    2013-05-03  Germany Republi        1210   \n",
      "59396  27263      4700.0    2011-05-07      Cefa-njombe        1212   \n",
      "59397  37057         0.0    2011-04-11              NaN           0   \n",
      "59398  31282         0.0    2011-03-08            Malec           0   \n",
      "59399  26348         0.0    2011-03-23       World Bank         191   \n",
      "\n",
      "          installer  longitude   latitude              wpt_name  num_private  \\\n",
      "0             Roman  34.938093  -9.856322                  none            0   \n",
      "1           GRUMETI  34.698766  -2.147466              Zahanati            0   \n",
      "2      World vision  37.460664  -3.821329           Kwa Mahundi            0   \n",
      "3            UNICEF  38.486161 -11.155298  Zahanati Ya Nanyumbu            0   \n",
      "4           Artisan  31.130847  -1.825359               Shuleni            0   \n",
      "...             ...        ...        ...                   ...          ...   \n",
      "59395           CES  37.169807  -3.253847   Area Three Namba 27            0   \n",
      "59396          Cefa  35.249991  -9.070629     Kwa Yahona Kuvala            0   \n",
      "59397           NaN  34.017087  -8.750434               Mashine            0   \n",
      "59398          Musa  35.861315  -6.378573                Mshoro            0   \n",
      "59399         World  38.104048  -6.747464       Kwa Mzee Lugawa            0   \n",
      "\n",
      "       ... payment_type water_quality quality_group      quantity  \\\n",
      "0      ...     annually          soft          good        enough   \n",
      "1      ...    never pay          soft          good  insufficient   \n",
      "2      ...   per bucket          soft          good        enough   \n",
      "3      ...    never pay          soft          good           dry   \n",
      "4      ...    never pay          soft          good      seasonal   \n",
      "...    ...          ...           ...           ...           ...   \n",
      "59395  ...   per bucket          soft          good        enough   \n",
      "59396  ...     annually          soft          good        enough   \n",
      "59397  ...      monthly      fluoride      fluoride        enough   \n",
      "59398  ...    never pay          soft          good  insufficient   \n",
      "59399  ...   on failure         salty         salty        enough   \n",
      "\n",
      "       quantity_group                source           source_type  \\\n",
      "0              enough                spring                spring   \n",
      "1        insufficient  rainwater harvesting  rainwater harvesting   \n",
      "2              enough                   dam                   dam   \n",
      "3                 dry           machine dbh              borehole   \n",
      "4            seasonal  rainwater harvesting  rainwater harvesting   \n",
      "...               ...                   ...                   ...   \n",
      "59395          enough                spring                spring   \n",
      "59396          enough                 river            river/lake   \n",
      "59397          enough           machine dbh              borehole   \n",
      "59398    insufficient          shallow well          shallow well   \n",
      "59399          enough          shallow well          shallow well   \n",
      "\n",
      "       source_class              waterpoint_type waterpoint_type_group  \n",
      "0       groundwater           communal standpipe    communal standpipe  \n",
      "1           surface           communal standpipe    communal standpipe  \n",
      "2           surface  communal standpipe multiple    communal standpipe  \n",
      "3       groundwater  communal standpipe multiple    communal standpipe  \n",
      "4           surface           communal standpipe    communal standpipe  \n",
      "...             ...                          ...                   ...  \n",
      "59395   groundwater           communal standpipe    communal standpipe  \n",
      "59396       surface           communal standpipe    communal standpipe  \n",
      "59397   groundwater                    hand pump             hand pump  \n",
      "59398   groundwater                    hand pump             hand pump  \n",
      "59399   groundwater                    hand pump             hand pump  \n",
      "\n",
      "[59400 rows x 40 columns]\n"
     ]
    }
   ],
   "source": [
    "print(df)"
   ]
  },
  {
   "cell_type": "code",
   "execution_count": 3,
   "id": "1d028837-e24b-4836-9dcd-a28de433c88b",
   "metadata": {},
   "outputs": [
    {
     "name": "stdout",
     "output_type": "stream",
     "text": [
      "Total unique rows in lookup: 58663\n",
      "      region  region_code  district_code              lga        ward  \\\n",
      "0     Iringa           11              5           Ludewa    Mundindi   \n",
      "1       Mara           20              2        Serengeti       Natta   \n",
      "2    Manyara           21              4        Simanjiro     Ngorika   \n",
      "3     Mtwara           90             63         Nanyumbu    Nanyumbu   \n",
      "4     Kagera           18              1          Karagwe  Nyakasimbi   \n",
      "5      Tanga            4              8           Mkinga         Moa   \n",
      "6  Shinyanga           17              3  Shinyanga Rural      Samuye   \n",
      "7  Shinyanga           17              3           Kahama      Chambo   \n",
      "8     Tabora           14              6     Tabora Urban    Itetemia   \n",
      "9     Kagera           18              1          Karagwe      Kaisho   \n",
      "\n",
      "        subvillage                    basin   latitude  longitude  \n",
      "0         Mnyusi B               Lake Nyasa  -9.856322  34.938093  \n",
      "1          Nyamara            Lake Victoria  -2.147466  34.698766  \n",
      "2          Majengo                  Pangani  -3.821329  37.460664  \n",
      "3       Mahakamani  Ruvuma / Southern Coast -11.155298  38.486161  \n",
      "4       Kyanyamisa            Lake Victoria  -1.825359  31.130847  \n",
      "5      Moa/Mwereme                  Pangani  -4.765587  39.172796  \n",
      "6    Ishinabulandi                 Internal  -3.766365  33.362410  \n",
      "7  Nyawishi Center          Lake Tanganyika  -4.226198  32.620617  \n",
      "8       Imalauduki          Lake Tanganyika  -5.146712  32.711100  \n",
      "9         Mkonomre            Lake Victoria  -1.257051  30.626991  \n"
     ]
    }
   ],
   "source": [
    "import pandas as pd\n",
    "\n",
    "# 1) Read your full training‐set CSV. Adjust the path if needed.\n",
    "df = pd.read_csv(\"../data/Training_Set_Values.csv\")\n",
    "\n",
    "# 2) Select only the geographic columns you care about, then drop duplicate rows.\n",
    "geo_cols = [\"region\", \"region_code\", \"district_code\", \"lga\", \"ward\", \"subvillage\", \"basin\", \"latitude\", \"longitude\"]\n",
    "geo_lookup = df[geo_cols].drop_duplicates().reset_index(drop=True)\n",
    "\n",
    "# 3) (Optional) You can check that it looks reasonable:\n",
    "print(\"Total unique rows in lookup:\", len(geo_lookup))\n",
    "print(geo_lookup.head(10))\n",
    "\n",
    "# 4) Save the lookup to a new file (e.g. “data/geo_lookup.csv”):\n",
    "geo_lookup.to_csv(\"../data/geo_lookup.csv\", index=False)\n"
   ]
  },
  {
   "cell_type": "code",
   "execution_count": 2,
   "id": "50e01e9c-6544-45b3-8c25-a777606d5bab",
   "metadata": {},
   "outputs": [
    {
     "name": "stdout",
     "output_type": "stream",
     "text": [
      "Subvillages in mwanza, district 1: ['Alugoma', 'Amgera', 'Amrumo', 'Amuhama', 'Amwama', 'Apembe', 'Azimio', 'Azimio A', 'Bahati', 'Bondeni', 'Bubange', 'Bugando', 'Buganza', 'Bugengere', 'Bugomwa', 'Bugoye', 'Buhaganzara', 'Bukesela', 'Bukimwi', 'Bukindo Nkokolo', 'Bukongokati', 'Bukulungila', 'Bukumi', 'Bukungu', 'Bunguru', 'Busele', 'Busenda', 'Busiri Center', 'Busumagu', 'Butiama', 'Butiliti', 'Buyanja', 'Buyoga', 'Buzegwe Ofisini', 'Bwisya', 'Bwiyombe', 'Ccm', 'Center', 'Chamatule', 'Chamlindi', 'Chang`Ombe', 'Chankobe', 'Chemba', 'Chemchemu', 'Chirago', 'Corner', 'Ebhugwe', 'Elimu', 'Emama', 'Gallu', 'Habare', 'Halwaya', 'Halwego Kati', 'Halweya B', 'Hamkuno', 'Harulalo', 'Huduma', 'Igatengwa', 'Iringo', 'Irondo Mgharibi', 'Jabatundu', 'Jamnono', 'Jiranimwema', 'Jiwekuu', 'Kabakala', 'Kabakara', 'Kabakarz', 'Kabanga', 'Kabasuma', 'Kagera', 'Kagulembela', 'Kakerege', 'Kakoma', 'Kambarage', 'Kamengo', 'Kamote', 'Kanisani', 'Karibusele', 'Kasahunga', 'Kasalu', 'Kaseniziwani', 'Kasozu', 'Kasuzu', 'Katende', 'Kati', 'Kenonzo', 'Kihungula', 'Kilabela', 'Kilimabuye', 'Kilombero', 'Kinazi', 'Kirumba', 'Kivukoni', 'Kiwandani', 'Kiyozo', 'Kizule', 'Kongo', 'Kulutale', 'Kwaya', 'Lubambangoma', 'Lumumba', 'Lyabasura', 'Machinjioni', 'Madukani', 'Maendeleo', 'Magereza', 'Mageuzi', 'Magua', 'Mapinduzi', 'Mapumziko', 'Marudio', 'Masaka', 'Mchinjioni', 'Miembeni', 'Miti Mirefu', 'Mitimirefu', 'Mkombozi', 'Mkoroshoni', 'Mkunguru', 'Mkuyuni', 'Mkwajuni', 'Mlezi', 'Mlimani', 'Mome', 'Moterugali', 'Mpakani', 'Msimbazi', 'Msituni', 'Mtakuja', 'Mtukula', 'Mukasesero', 'Mulezi Kati', 'Muluherere', 'Muluseni', 'Mumakeke', 'Munuherere', 'Muozya', 'Muruherere', 'Murutunguru', 'Muungano', 'Mwakuzuka', 'Mwaloni', 'Mwamahala', 'Mwamusobi', 'Mwenge', 'Mwidea', 'Mwigeresi', 'Mwigoe', 'Mwigombe', 'Mwiruruma', 'Mwitongo', 'Nabili', 'Nabuta', 'Nafuba', 'Nakabungo', 'Nakibunu', 'Namagama', 'Namalebe', 'Namalewe', 'Nambodhu', 'Nampisi', 'Nduhu', \"Ng'Esha\", 'Ngara Shuleni', 'Ngesha', 'Ngunda', 'Nkungu', 'Nsenga', 'Nsenge', 'Nsigatengwa', 'Nyamarasi', 'Nyambuli', 'Nyamisagusa A', 'Nyamisagusa B', 'Nyamiselia', 'Nyamiselis', 'Nyang`Ombe', 'Ofisini', 'Rubya', 'Ruocho', 'Rwatankororo', 'Segera', 'Shinyanga', 'Shuleni', 'Sokomjinga', 'Songambele', 'Songambele A', 'Songambele B', 'Stooni', 'Tegatengwa', 'Tupendane', 'Ubungeni', 'Uhuru', 'Ujamaa', 'Ujamaa A', 'Ujamaa B', 'Ujiranimwema', 'Umoja', 'Uwanjani', 'Wichamoyo', 'Yanganda', 'Zamu A', 'Zamu B', 'Zingatia']\n"
     ]
    }
   ],
   "source": [
    "import pandas as pd\n",
    "\n",
    "# 1) Load the full training CSV\n",
    "df = pd.read_csv(\"../data/Training_Set_Values.csv\")\n",
    "\n",
    "# 2) Filter for region == \"Dodoma\" and district_code == 3\n",
    "mask = (df[\"region\"].str.lower() == \"mwanza\") & (df[\"district_code\"] == 1)\n",
    "subset = df.loc[mask]\n",
    "\n",
    "# 3) Extract and print the unique subvillage names (dropping any NaN)\n",
    "subvillages = subset[\"subvillage\"].dropna().unique().tolist()\n",
    "print(\"Subvillages in mwanza, district 1:\", sorted(subvillages))\n"
   ]
  },
  {
   "cell_type": "code",
   "execution_count": 11,
   "id": "768a0275-b9c2-4cf2-8b2a-5631eff33c58",
   "metadata": {},
   "outputs": [],
   "source": [
    "df[\"region_lower\"] = df[\"region\"].str.lower()\n",
    "region_to_basins = (\n",
    "    df\n",
    "    .dropna(subset=[\"region_lower\", \"basin\"])\n",
    "    .groupby(\"region_lower\")[\"basin\"]\n",
    "    .unique()\n",
    "    .apply(list)\n",
    "    .to_dict()\n",
    ")\n"
   ]
  },
  {
   "cell_type": "code",
   "execution_count": 13,
   "id": "3a51d606-68de-45a1-b0c3-4683cfe89ef8",
   "metadata": {},
   "outputs": [
    {
     "name": "stdout",
     "output_type": "stream",
     "text": [
      "{'arusha': ['Pangani', 'Internal', 'Lake Victoria'], 'dar es salaam': ['Wami / Ruvu'], 'dodoma': ['Wami / Ruvu', 'Internal', 'Rufiji'], 'iringa': ['Lake Nyasa', 'Rufiji'], 'kagera': ['Lake Victoria', 'Lake Tanganyika'], 'kigoma': ['Lake Tanganyika'], 'kilimanjaro': ['Pangani', 'Internal'], 'lindi': ['Ruvuma / Southern Coast', 'Rufiji'], 'manyara': ['Pangani', 'Internal', 'Wami / Ruvu'], 'mara': ['Lake Victoria'], 'mbeya': ['Lake Nyasa', 'Rufiji', 'Lake Rukwa'], 'morogoro': ['Rufiji', 'Wami / Ruvu'], 'mtwara': ['Ruvuma / Southern Coast'], 'mwanza': ['Lake Victoria', 'Lake Tanganyika'], 'pwani': ['Wami / Ruvu', 'Rufiji'], 'rukwa': ['Lake Tanganyika', 'Lake Rukwa'], 'ruvuma': ['Lake Nyasa', 'Ruvuma / Southern Coast', 'Rufiji'], 'shinyanga': ['Internal', 'Lake Tanganyika', 'Lake Victoria'], 'singida': ['Internal', 'Rufiji', 'Lake Rukwa', 'Lake Tanganyika'], 'tabora': ['Lake Tanganyika', 'Internal', 'Lake Rukwa', 'Rufiji'], 'tanga': ['Pangani', 'Wami / Ruvu']}\n"
     ]
    }
   ],
   "source": [
    "print(region_to_basins)"
   ]
  },
  {
   "cell_type": "code",
   "execution_count": 4,
   "id": "e4df66c0-17c9-470c-aead-d9e36b38d0ec",
   "metadata": {},
   "outputs": [
    {
     "name": "stdout",
     "output_type": "stream",
     "text": [
      "['borehole', 'dam', 'other', 'rainwater harvesting', 'river/lake', 'shallow well', 'spring']\n"
     ]
    }
   ],
   "source": [
    "import pandas as pd\n",
    "\n",
    "df = pd.read_csv(\"../data/Training_Set_Values.csv\")\n",
    "print(sorted(df[\"source_type\"].dropna().unique().tolist()))\n"
   ]
  },
  {
   "cell_type": "code",
   "execution_count": 2,
   "id": "b3d37303-6341-47e4-9b25-508026b9cb55",
   "metadata": {},
   "outputs": [
    {
     "name": "stdout",
     "output_type": "stream",
     "text": [
      "['amount_tsh' 'date_recorded' 'funder' 'gps_height' 'installer'\n",
      " 'longitude' 'latitude' 'wpt_name' 'basin' 'subvillage' 'region_code'\n",
      " 'district_code' 'lga' 'ward' 'population' 'public_meeting'\n",
      " 'scheme_management' 'scheme_name' 'permit' 'construction_year'\n",
      " 'extraction_type_class' 'management' 'management_group' 'payment'\n",
      " 'payment_type' 'water_quality' 'quantity' 'source_type' 'source_class'\n",
      " 'waterpoint_type' 'region_with_code']\n",
      "['amount_tsh' 'date_recorded' 'funder' 'gps_height' 'installer'\n",
      " 'longitude' 'latitude' 'wpt_name' 'basin' 'subvillage' 'region_code'\n",
      " 'district_code' 'lga' 'ward' 'population' 'public_meeting'\n",
      " 'scheme_management' 'scheme_name' 'permit' 'construction_year'\n",
      " 'extraction_type_class' 'management' 'management_group' 'payment'\n",
      " 'payment_type' 'water_quality' 'quantity' 'source_type' 'source_class'\n",
      " 'waterpoint_type' 'region_with_code']\n"
     ]
    }
   ],
   "source": [
    "from preprocessors import (\n",
    "    LowerCaseStrings,\n",
    "    StringConverter,\n",
    "    YearExtractor,\n",
    "    IQRCapper,\n",
    "    ConstructionYearTransformer,\n",
    "    ObjectToNumericConverter,\n",
    "    AgeCalculator,\n",
    "    FrequencyEncoder,\n",
    "    RegionCodeCombiner,\n",
    "    ColumnDropper,\n",
    "    AgePipeline,\n",
    "    GeoContextImputer,\n",
    ")\n",
    "\n",
    "import joblib\n",
    "\n",
    "# Now you can safely unpickle:\n",
    "pipeline = joblib.load(\"full_pipeline.joblib\")\n",
    "\n",
    "# Inspect which raw column names the ColumnTransformer expects:\n",
    "print(pipeline.named_steps[\"preprocessor\"].feature_names_in_)\n",
    "\n",
    "pipeline = joblib.load(\"full_pipeline.joblib\")\n",
    "print(pipeline.named_steps[\"preprocessor\"].feature_names_in_)\n"
   ]
  },
  {
   "cell_type": "code",
   "execution_count": 1,
   "id": "b6e767ce-5bb1-4074-987a-e95c1fa07eea",
   "metadata": {},
   "outputs": [
    {
     "name": "stdout",
     "output_type": "stream",
     "text": [
      "dict_keys(['GID_2', 'GID_0', 'COUNTRY', 'GID_1', 'NAME_1', 'NL_NAME_1', 'NAME_2', 'VARNAME_2', 'NL_NAME_2', 'TYPE_2', 'ENGTYPE_2', 'CC_2', 'HASC_2'])\n"
     ]
    }
   ],
   "source": [
    "import json\n",
    "\n",
    "# load one feature to inspect its property names\n",
    "geo_district = json.load(open(\"../data/gadm41_TZA_shp/gadm41_TZA_2.json\"))\n",
    "print(geo_district[\"features\"][0][\"properties\"].keys())\n"
   ]
  },
  {
   "cell_type": "code",
   "execution_count": 3,
   "id": "47ae6eed-f785-46b8-a7ad-4cbbd0a7f8ea",
   "metadata": {},
   "outputs": [
    {
     "ename": "NameError",
     "evalue": "name 'agg_district' is not defined",
     "output_type": "error",
     "traceback": [
      "\u001b[0;31m---------------------------------------------------------------------------\u001b[0m",
      "\u001b[0;31mNameError\u001b[0m                                 Traceback (most recent call last)",
      "Cell \u001b[0;32mIn[3], line 1\u001b[0m\n\u001b[0;32m----> 1\u001b[0m district_summary_df \u001b[38;5;241m=\u001b[39m \u001b[43magg_district\u001b[49m\u001b[38;5;241m.\u001b[39mrename(columns\u001b[38;5;241m=\u001b[39m{\n\u001b[1;32m      2\u001b[0m     \u001b[38;5;124m\"\u001b[39m\u001b[38;5;124mdistrict_code\u001b[39m\u001b[38;5;124m\"\u001b[39m: \u001b[38;5;124m\"\u001b[39m\u001b[38;5;124mID_2\u001b[39m\u001b[38;5;124m\"\u001b[39m,\n\u001b[1;32m      3\u001b[0m     \u001b[38;5;124m\"\u001b[39m\u001b[38;5;124mpct_functional\u001b[39m\u001b[38;5;124m\"\u001b[39m: \u001b[38;5;124m\"\u001b[39m\u001b[38;5;124mpct_functional\u001b[39m\u001b[38;5;124m\"\u001b[39m\n\u001b[1;32m      4\u001b[0m })\n\u001b[1;32m      6\u001b[0m folium\u001b[38;5;241m.\u001b[39mChoropleth(\n\u001b[1;32m      7\u001b[0m     geo_data\u001b[38;5;241m=\u001b[39mgeo_district,\n\u001b[1;32m      8\u001b[0m     data\u001b[38;5;241m=\u001b[39mdistrict_summary_df,\n\u001b[0;32m   (...)\u001b[0m\n\u001b[1;32m     11\u001b[0m \n\u001b[1;32m     12\u001b[0m )\n",
      "\u001b[0;31mNameError\u001b[0m: name 'agg_district' is not defined"
     ]
    }
   ],
   "source": [
    "district_summary_df = agg_district.rename(columns={\n",
    "    \"district_code\": \"ID_2\",\n",
    "    \"pct_functional\": \"pct_functional\"\n",
    "})\n",
    "\n",
    "folium.Choropleth(\n",
    "    geo_data=geo_district,\n",
    "    data=district_summary_df,\n",
    "    columns=[\"ID_2\",\"pct_functional\"],\n",
    "    key_on=\"feature.properties.ID_2\",\n",
    "\n",
    ")\n"
   ]
  },
  {
   "cell_type": "code",
   "execution_count": null,
   "id": "8e957554-50e3-4f16-aa37-77f47b9490a0",
   "metadata": {},
   "outputs": [],
   "source": []
  }
 ],
 "metadata": {
  "kernelspec": {
   "display_name": "Python 3 (ipykernel)",
   "language": "python",
   "name": "python3"
  },
  "language_info": {
   "codemirror_mode": {
    "name": "ipython",
    "version": 3
   },
   "file_extension": ".py",
   "mimetype": "text/x-python",
   "name": "python",
   "nbconvert_exporter": "python",
   "pygments_lexer": "ipython3",
   "version": "3.10.12"
  }
 },
 "nbformat": 4,
 "nbformat_minor": 5
}
