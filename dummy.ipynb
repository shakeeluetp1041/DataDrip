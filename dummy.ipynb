{
 "cells": [
  {
   "cell_type": "code",
   "execution_count": null,
   "id": "98674dd9",
   "metadata": {},
   "outputs": [],
   "source": [
    "# Column 03 funder # Not Clear how to handle this column\n",
    "print(\"NaN value count in funder:\",df[\"funder\"].isnull().sum()) # Check if there are any null values in the column\n",
    "print('Unique values:',df['funder'].nunique()) # Print the number of unique values in the column\n",
    "print(df['funder'].describe()) # Print the value counts of the column\n",
    "\n",
    "\n",
    "# Get top 10 most common funders\n",
    "top_funders = df['funder'].value_counts().head(10).index\n",
    "\n",
    "# Filter only top funders\n",
    "df_top = df[df['funder'].isin(top_funders)]\n",
    "\n",
    "# Plot count of target classes per funder\n",
    "import seaborn as sns\n",
    "import matplotlib.pyplot as plt\n",
    "\n",
    "plt.figure(figsize=(12, 6))\n",
    "sns.countplot(x='funder', hue='target', data=df_top)\n",
    "plt.xticks(rotation=45)\n",
    "plt.title('Water Pump Status by Top 10 Funders')\n",
    "plt.xlabel('Funder')\n",
    "plt.ylabel('Count')\n",
    "plt.legend(title='Status', labels=['Functional', 'Needs Repair', 'Nonfunctional'])\n",
    "plt.tight_layout()\n",
    "plt.show()\n"
   ]
  },
  {
   "cell_type": "code",
   "execution_count": null,
   "id": "3f985bb5",
   "metadata": {},
   "outputs": [],
   "source": [
    "# Column 05 installer # Not Clear how to handle this column\n",
    "print(\"NaN value count in installer:\",df[\"installer\"].isnull().sum()) # Check if there are any null values in the column\n",
    "print('Unique values:',df['installer'].nunique()) # Print the number of unique values in the column\n",
    "print(df['installer'].describe()) # Print the value counts of the column\n",
    "#print(df['installer'].value_counts()) # Print the value counts of the column\n",
    "pd.crosstab(df['installer'],df['target']).head() # Cross tabulation of installer and status_group"
   ]
  },
  {
   "cell_type": "code",
   "execution_count": null,
   "id": "69896bf7",
   "metadata": {},
   "outputs": [],
   "source": [
    "# Get top 10 most common installer\n",
    "top_installer = df['installer'].value_counts().head(10).index\n",
    "\n",
    "# Filter only top installer\n",
    "df_top = df[df['installer'].isin(top_installer)]\n",
    "\n",
    "# Plot count of target classes per installer\n",
    "import seaborn as sns\n",
    "import matplotlib.pyplot as plt\n",
    "\n",
    "plt.figure(figsize=(12, 6))\n",
    "sns.countplot(x='installer', hue='target', data=df_top)\n",
    "plt.xticks(rotation=45)\n",
    "plt.title('Water Pump Status by Top 10 Installer')\n",
    "plt.xlabel('Installer')\n",
    "plt.ylabel('Count')\n",
    "plt.legend(title='Status', labels=['Functional', 'Needs Repair', 'Nonfunctional'])\n",
    "plt.tight_layout()\n",
    "plt.show()"
   ]
  },
  {
   "cell_type": "code",
   "execution_count": null,
   "id": "79fb64b8",
   "metadata": {},
   "outputs": [],
   "source": [
    "# Column 08 wpt_name (Waterpoint Name)  # Not Clear how to handle this column\n",
    "print(\"NaN value count in wpt_name:\",df[\"wpt_name\"].isnull().sum()) # Check if there are any null values in the column\n",
    "print('Number of unique values',df['wpt_name'].nunique()) # Print the number of unique values the column\n",
    "\n",
    "df['wpt_name'].value_counts() # Print the value counts of the column"
   ]
  },
  {
   "cell_type": "code",
   "execution_count": null,
   "id": "ac79ebe0",
   "metadata": {},
   "outputs": [],
   "source": [
    "# Column 09 num_private # Since 75% values are zero better to drop this column\n",
    "print(\"--------------------------------\")\n",
    "print(df[\"num_private\"].describe()) # Print the description of the column\n",
    "df[\"num_private\"].isnull().sum() # Check if there are any null values in the column\n",
    "plt.figure(figsize=(8,5))\n",
    "sns.histplot(df[\"num_private\"], bins=200,kde=True) # Plot the histogram of the column\n",
    "plt.title(\"Histogram of num_private\")\n",
    "plt.xlabel(\"num_private\")\n",
    "plt.ylabel(\"Frequency\")\n",
    "plt.show()\n",
    "plt.figure(figsize=(8,5))\n",
    "plt.scatter(df.index, df['num_private'], color='blue', label='Values')\n",
    "plt.xlabel('Index')\n",
    "plt.ylabel('Values')\n",
    "plt.title(\"num_private vs Index\")\n",
    "plt.show()\n",
    "plt.figure(figsize=(8,5))\n",
    "sns.boxplot(df[\"num_private\"])\n",
    "#sns.stripplot(df[\"num_private\"], color=\"red\", alpha=0.5)                  # Adds all points\n",
    "plt.title(\"Boxplot of num_private\")\n",
    "# Labels and title\n",
    "plt.xlabel('Index')\n",
    "plt.ylabel('Values')\n",
    "plt.title('Values vs Index')\n",
    "plt.show()"
   ]
  },
  {
   "cell_type": "code",
   "execution_count": null,
   "id": "9d5d8ebc",
   "metadata": {},
   "outputs": [],
   "source": [
    "# Column 11 subvillage # Since region code and district code gives same info \n",
    "                    # so ignore this because it has NaN and string to number \n",
    "                    # conversion is needed \n",
    "print(\"NaN count:\",df[\"subvillage\"].isnull().sum()) # Check if there are any null values in the column\n",
    "print(df[\"subvillage\"].describe()) # Print the value counts of the column\n",
    "df[\"subvillage\"].value_counts() # Print the value counts of the column\n",
    "df[\"subvillage\"].head()\n",
    "\n",
    "\"\"\"\n",
    "\n",
    "df['subvillage'] = df['subvillage'].fillna('Unknown')\n",
    "encoded_subvillage = ohe.fit_transform(df[['subvillage']])\n",
    "encoded_subvillage_df = pd.DataFrame(encoded_subvillage, columns=ohe.get_feature_names_out(['subvillage']), index=df.index)  \n",
    "\n",
    "print(encoded_subvillage_df.head(5)) # Print the first 5 rows of the encoded dataframe\n",
    "df = pd.concat([df, encoded_subvillage_df], axis=1) # Concatenate the original dataframe with the encoded dataframe\n",
    "#df.drop(columns=['region'], inplace=True) # Drop the original column\n",
    "#df.head()\n",
    "\"\"\""
   ]
  },
  {
   "cell_type": "code",
   "execution_count": null,
   "id": "b8f99ba1",
   "metadata": {},
   "outputs": [],
   "source": [
    "# Column 16 ward # No NaN, 2092 unique values, used normalized frequency encoding\n",
    "print(\"NaN count:\",df[\"ward\"].isnull().sum())# Print the value counts of the column\n",
    "print(\"Unique values:\",df[\"ward\"].nunique())# Print the value counts of the column\n",
    "print(df[\"ward\"].describe()) # Print the description of the column\n",
    "#print(df[\"ward\"].head()) # Print the description of the column\n",
    "#freq_encoding=df[\"ward\"].value_counts(normalize=True) # Frequency Encoding for ward column\n",
    "#df[\"ward_freq\"]=df[\"ward\"].map(freq_encoding) # Map the frequencies to the original column\n",
    "df[\"ward\"].head()"
   ]
  },
  {
   "cell_type": "code",
   "execution_count": null,
   "id": "4ab9c185",
   "metadata": {},
   "outputs": [],
   "source": [
    "# Column 19 recorded_by # All values are \"GeoData Consultants Ltd\" ignore this column\n",
    "print('Nan count:',df['recorded_by'].isnull().sum()) # Check if there are any null values in the column\n",
    "df['recorded_by'].describe() # Print the value counts of the column\n",
    "print('Unique values:',df['recorded_by'].nunique()) # Print the value counts of the column\n",
    "print(df['recorded_by'].describe())\n",
    "df.columns"
   ]
  },
  {
   "cell_type": "code",
   "execution_count": null,
   "id": "489cab54",
   "metadata": {},
   "outputs": [],
   "source": [
    "# Column 20 scheme_management # could not decide about this column..drop/keep\n",
    "print('Nan count',df['scheme_management'].isnull().sum())\n",
    "print('Unique values',df['scheme_name'].nunique())\n",
    "print(df['scheme_management'].value_counts())\n",
    "print('Unique values',df['scheme_management'].nunique())\n",
    "\n",
    "#pd.crosstab(df['scheme_name'],df['scheme_management'])\n",
    "pd.set_option(\"display.max_rows\", None)\n",
    "print(df[df['scheme_management'].isna()][['scheme_management','scheme_name']]) "
   ]
  },
  {
   "cell_type": "code",
   "execution_count": null,
   "id": "468d053c",
   "metadata": {},
   "outputs": [],
   "source": [
    "#Column 21 scheme_name # Nan count is 28790..almost 50 percemt so ignore the column\n",
    "print('Nan count:',df['scheme_name'].isnull().sum()) # Check if there are any null values in the column\n",
    "df['scheme_name'].describe() # Print the value counts of the column"
   ]
  },
  {
   "cell_type": "code",
   "execution_count": null,
   "id": "816c377b",
   "metadata": {},
   "outputs": [],
   "source": []
  },
  {
   "cell_type": "code",
   "execution_count": null,
   "id": "711f59f8",
   "metadata": {},
   "outputs": [],
   "source": []
  },
  {
   "cell_type": "code",
   "execution_count": null,
   "id": "bb898c5f",
   "metadata": {},
   "outputs": [],
   "source": []
  }
 ],
 "metadata": {
  "kernelspec": {
   "display_name": "venv",
   "language": "python",
   "name": "python3"
  },
  "language_info": {
   "codemirror_mode": {
    "name": "ipython",
    "version": 3
   },
   "file_extension": ".py",
   "mimetype": "text/x-python",
   "name": "python",
   "nbconvert_exporter": "python",
   "pygments_lexer": "ipython3",
   "version": "3.13.0"
  }
 },
 "nbformat": 4,
 "nbformat_minor": 5
}
